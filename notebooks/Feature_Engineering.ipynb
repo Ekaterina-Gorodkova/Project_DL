{
  "cells": [
    {
      "cell_type": "code",
      "execution_count": null,
      "id": "417ae8b7",
      "metadata": {
        "_cell_guid": "b1076dfc-b9ad-4769-8c92-a6c4dae69d19",
        "_uuid": "8f2839f25d086af736a60e9eeb907d3b93b6e0e5",
        "execution": {
          "iopub.execute_input": "2025-02-04T22:47:03.427281Z",
          "iopub.status.busy": "2025-02-04T22:47:03.427029Z",
          "iopub.status.idle": "2025-02-04T22:47:10.173824Z",
          "shell.execute_reply": "2025-02-04T22:47:10.172812Z"
        },
        "papermill": {
          "duration": 6.761832,
          "end_time": "2025-02-04T22:47:10.175235",
          "exception": false,
          "start_time": "2025-02-04T22:47:03.413403",
          "status": "completed"
        },
        "tags": [],
        "id": "417ae8b7",
        "outputId": "a409b912-d8a0-4e23-b124-26a0d4d34a03"
      },
      "outputs": [
        {
          "name": "stdout",
          "output_type": "stream",
          "text": [
            "/kaggle/input/wsdm-cup-multilingual-chatbot-arena/sample_submission.csv\n",
            "/kaggle/input/wsdm-cup-multilingual-chatbot-arena/train.parquet\n",
            "/kaggle/input/wsdm-cup-multilingual-chatbot-arena/test.parquet\n"
          ]
        }
      ],
      "source": [
        "import numpy as np\n",
        "import pandas as pd\n",
        "import seaborn as sns\n",
        "import matplotlib.pyplot as plt\n",
        "from sklearn.linear_model import LogisticRegression\n",
        "from sklearn.feature_extraction.text import TfidfVectorizer\n",
        "from sklearn.pipeline import FeatureUnion\n",
        "from sklearn.compose import ColumnTransformer\n",
        "from sklearn.model_selection import train_test_split\n",
        "from sklearn.feature_extraction.text import TfidfVectorizer\n",
        "from sklearn.metrics.pairwise import cosine_similarity\n",
        "from tqdm import tqdm\n",
        "tqdm.pandas()\n",
        "import warnings\n",
        "warnings.filterwarnings(\"ignore\")\n",
        "from scipy.sparse import hstack\n",
        "from textblob import TextBlob\n",
        "from xgboost import XGBClassifier\n",
        "from sklearn.metrics import confusion_matrix\n",
        "from sklearn.model_selection import cross_val_score, KFold\n",
        "from sklearn.metrics import accuracy_score\n",
        "import lightgbm as lgb\n",
        "from nltk.sentiment.vader import SentimentIntensityAnalyzer\n",
        "import langid\n",
        "from sklearn.metrics import roc_auc_score as ras\n",
        "import string\n"
      ]
    },
    {
      "cell_type": "code",
      "execution_count": null,
      "id": "66c29606",
      "metadata": {
        "execution": {
          "iopub.execute_input": "2025-02-04T22:47:10.230061Z",
          "iopub.status.busy": "2025-02-04T22:47:10.229507Z",
          "iopub.status.idle": "2025-02-04T22:47:12.837584Z",
          "shell.execute_reply": "2025-02-04T22:47:12.836694Z"
        },
        "papermill": {
          "duration": 2.623426,
          "end_time": "2025-02-04T22:47:12.839154",
          "exception": false,
          "start_time": "2025-02-04T22:47:10.215728",
          "status": "completed"
        },
        "tags": [],
        "id": "66c29606",
        "outputId": "c4299eef-9d74-4084-e310-4f7b2ef5acf6"
      },
      "outputs": [
        {
          "data": {
            "text/html": [
              "<div>\n",
              "<style scoped>\n",
              "    .dataframe tbody tr th:only-of-type {\n",
              "        vertical-align: middle;\n",
              "    }\n",
              "\n",
              "    .dataframe tbody tr th {\n",
              "        vertical-align: top;\n",
              "    }\n",
              "\n",
              "    .dataframe thead th {\n",
              "        text-align: right;\n",
              "    }\n",
              "</style>\n",
              "<table border=\"1\" class=\"dataframe\">\n",
              "  <thead>\n",
              "    <tr style=\"text-align: right;\">\n",
              "      <th></th>\n",
              "      <th>id</th>\n",
              "      <th>prompt</th>\n",
              "      <th>response_a</th>\n",
              "      <th>response_b</th>\n",
              "      <th>winner</th>\n",
              "      <th>model_a</th>\n",
              "      <th>model_b</th>\n",
              "      <th>language</th>\n",
              "    </tr>\n",
              "  </thead>\n",
              "  <tbody>\n",
              "    <tr>\n",
              "      <th>0</th>\n",
              "      <td>00007cff95d7f7974642a785aca248b0f26e60d3312fac...</td>\n",
              "      <td>vieš po Slovensky?</td>\n",
              "      <td>Áno, hovorím po slovensky. Ako vám môžem pomôcť?</td>\n",
              "      <td>Áno, veď som tu! Môžem ti pomôcť s otázkami al...</td>\n",
              "      <td>model_a</td>\n",
              "      <td>o1-preview</td>\n",
              "      <td>reka-core-20240904</td>\n",
              "      <td>Slovak</td>\n",
              "    </tr>\n",
              "    <tr>\n",
              "      <th>1</th>\n",
              "      <td>00010ed04b536f56ebe43eef1100c13906abea12bf9855...</td>\n",
              "      <td>You will be given a piece of news. Analyze it ...</td>\n",
              "      <td>Let's break down the news and analyze it accor...</td>\n",
              "      <td>```json\\n{\\n  \"contains_orgs\": true,\\n  \"orgs\"...</td>\n",
              "      <td>model_a</td>\n",
              "      <td>gemma-2-27b-it</td>\n",
              "      <td>gemini-1.5-flash-002</td>\n",
              "      <td>Russian</td>\n",
              "    </tr>\n",
              "  </tbody>\n",
              "</table>\n",
              "</div>"
            ],
            "text/plain": [
              "                                                  id  \\\n",
              "0  00007cff95d7f7974642a785aca248b0f26e60d3312fac...   \n",
              "1  00010ed04b536f56ebe43eef1100c13906abea12bf9855...   \n",
              "\n",
              "                                              prompt  \\\n",
              "0                                 vieš po Slovensky?   \n",
              "1  You will be given a piece of news. Analyze it ...   \n",
              "\n",
              "                                          response_a  \\\n",
              "0   Áno, hovorím po slovensky. Ako vám môžem pomôcť?   \n",
              "1  Let's break down the news and analyze it accor...   \n",
              "\n",
              "                                          response_b   winner         model_a  \\\n",
              "0  Áno, veď som tu! Môžem ti pomôcť s otázkami al...  model_a      o1-preview   \n",
              "1  ```json\\n{\\n  \"contains_orgs\": true,\\n  \"orgs\"...  model_a  gemma-2-27b-it   \n",
              "\n",
              "                model_b language  \n",
              "0    reka-core-20240904   Slovak  \n",
              "1  gemini-1.5-flash-002  Russian  "
            ]
          },
          "execution_count": 2,
          "metadata": {},
          "output_type": "execute_result"
        }
      ],
      "source": [
        "df_train = pd.read_parquet('/kaggle/input/wsdm-cup-multilingual-chatbot-arena/train.parquet', engine='pyarrow')\n",
        "df_test = pd.read_parquet('/kaggle/input/wsdm-cup-multilingual-chatbot-arena/test.parquet', engine='pyarrow')"
      ]
    },
    {
      "cell_type": "code",
      "execution_count": null,
      "id": "bbb39c0d",
      "metadata": {
        "execution": {
          "iopub.execute_input": "2025-02-04T22:47:34.358805Z",
          "iopub.status.busy": "2025-02-04T22:47:34.358553Z",
          "iopub.status.idle": "2025-02-04T22:47:34.363040Z",
          "shell.execute_reply": "2025-02-04T22:47:34.362322Z"
        },
        "papermill": {
          "duration": 0.058744,
          "end_time": "2025-02-04T22:47:34.364262",
          "exception": false,
          "start_time": "2025-02-04T22:47:34.305518",
          "status": "completed"
        },
        "tags": [],
        "id": "bbb39c0d"
      },
      "outputs": [],
      "source": [
        "vectorizer_char = TfidfVectorizer(sublinear_tf=True, analyzer='char', ngram_range=(1,2), max_features=100_000)\n",
        "vectorizer_word = TfidfVectorizer(sublinear_tf=True, analyzer='word', min_df=3)\n",
        "preprocessor = ColumnTransformer(\n",
        "    transformers=[\n",
        "        ('prompt_feats', FeatureUnion([\n",
        "            ('prompt_char', vectorizer_char),\n",
        "            ('prompt_word', vectorizer_word)\n",
        "        ]), 'prompt'),\n",
        "        ('response_a_feats', FeatureUnion([\n",
        "            ('response_a_char', vectorizer_char),\n",
        "            ('response_a_word', vectorizer_word)\n",
        "        ]), 'response_a'),\n",
        "        ('response_b_feats', FeatureUnion([\n",
        "            ('response_b_char', vectorizer_char),\n",
        "            ('response_b_word', vectorizer_word)\n",
        "        ]), 'response_b')\n",
        "    ]\n",
        ")"
      ]
    },
    {
      "cell_type": "code",
      "execution_count": null,
      "id": "40b98c08",
      "metadata": {
        "execution": {
          "iopub.execute_input": "2025-02-04T22:47:34.427660Z",
          "iopub.status.busy": "2025-02-04T22:47:34.427450Z",
          "iopub.status.idle": "2025-02-04T22:47:34.473157Z",
          "shell.execute_reply": "2025-02-04T22:47:34.472474Z"
        },
        "papermill": {
          "duration": 0.063031,
          "end_time": "2025-02-04T22:47:34.474410",
          "exception": false,
          "start_time": "2025-02-04T22:47:34.411379",
          "status": "completed"
        },
        "tags": [],
        "id": "40b98c08"
      },
      "outputs": [],
      "source": [
        "idx_train, idx_validation = train_test_split(df_train.index,test_size=0.20,stratify=df_train[\"winner_ind\"], random_state=42)\n",
        "X_train, y_train = df_train.loc[idx_train,[\"response_a\",\"response_b\",\"prompt\"]],  df_train.loc[idx_train, 'winner_ind']\n",
        "X_val, y_val = df_train.loc[idx_validation,[\"response_a\",\"response_b\",\"prompt\"]],  df_train.loc[idx_validation, 'winner_ind']"
      ]
    },
    {
      "cell_type": "code",
      "execution_count": null,
      "id": "34c09f00",
      "metadata": {
        "execution": {
          "iopub.execute_input": "2025-02-04T22:47:34.506557Z",
          "iopub.status.busy": "2025-02-04T22:47:34.506345Z",
          "iopub.status.idle": "2025-02-04T22:47:34.510686Z",
          "shell.execute_reply": "2025-02-04T22:47:34.509891Z"
        },
        "papermill": {
          "duration": 0.021733,
          "end_time": "2025-02-04T22:47:34.511878",
          "exception": false,
          "start_time": "2025-02-04T22:47:34.490145",
          "status": "completed"
        },
        "tags": [],
        "id": "34c09f00",
        "outputId": "c3f44411-7129-44a4-9ab1-b97ff31fb1e9"
      },
      "outputs": [
        {
          "name": "stdout",
          "output_type": "stream",
          "text": [
            "(48439, 18)\n",
            "(38751, 3)\n",
            "(9688, 3)\n"
          ]
        }
      ],
      "source": [
        "print(df_train.shape)\n",
        "print(X_train.shape)\n",
        "print(X_val.shape)"
      ]
    },
    {
      "cell_type": "code",
      "execution_count": null,
      "id": "74febed9",
      "metadata": {
        "execution": {
          "iopub.execute_input": "2025-02-04T22:47:34.574884Z",
          "iopub.status.busy": "2025-02-04T22:47:34.574630Z",
          "iopub.status.idle": "2025-02-04T22:50:17.007877Z",
          "shell.execute_reply": "2025-02-04T22:50:17.006924Z"
        },
        "papermill": {
          "duration": 162.451153,
          "end_time": "2025-02-04T22:50:17.009683",
          "exception": false,
          "start_time": "2025-02-04T22:47:34.558530",
          "status": "completed"
        },
        "tags": [],
        "id": "74febed9"
      },
      "outputs": [],
      "source": [
        "train_feats = preprocessor.fit_transform(X_train)\n",
        "val_feats = preprocessor.transform(X_val)\n",
        "test_feats = preprocessor.transform(df_test[[\"response_a\",\"response_b\",\"prompt\"]])"
      ]
    },
    {
      "cell_type": "code",
      "execution_count": null,
      "id": "beee6031",
      "metadata": {
        "execution": {
          "iopub.execute_input": "2025-02-04T22:50:17.074173Z",
          "iopub.status.busy": "2025-02-04T22:50:17.073927Z",
          "iopub.status.idle": "2025-02-04T22:50:17.078318Z",
          "shell.execute_reply": "2025-02-04T22:50:17.077682Z"
        },
        "papermill": {
          "duration": 0.021917,
          "end_time": "2025-02-04T22:50:17.079479",
          "exception": false,
          "start_time": "2025-02-04T22:50:17.057562",
          "status": "completed"
        },
        "tags": [],
        "id": "beee6031"
      },
      "outputs": [],
      "source": [
        "\n",
        "def add_cosine_similarity_feature(df, feature1, feature2, new_feature_name):\n",
        "    def compute_cosine_similarity(row):\n",
        "        try:\n",
        "            if not row[feature1] or not row[feature2]:\n",
        "                return 0.0\n",
        "\n",
        "            vectorizer = TfidfVectorizer(stop_words='english')\n",
        "            tfidf_matrix = vectorizer.fit_transform([row[feature1], row[feature2]])\n",
        "\n",
        "            return cosine_similarity(tfidf_matrix[0:1], tfidf_matrix[1:2])[0][0]\n",
        "        except:\n",
        "            return 0\n",
        "\n",
        "    df[new_feature_name] = df.progress_apply(compute_cosine_similarity, axis=1)\n",
        "    return df"
      ]
    },
    {
      "cell_type": "code",
      "execution_count": null,
      "id": "46e89e32",
      "metadata": {
        "execution": {
          "iopub.execute_input": "2025-02-04T22:50:17.111174Z",
          "iopub.status.busy": "2025-02-04T22:50:17.110960Z",
          "iopub.status.idle": "2025-02-04T22:54:38.573706Z",
          "shell.execute_reply": "2025-02-04T22:54:38.572448Z"
        },
        "papermill": {
          "duration": 261.480413,
          "end_time": "2025-02-04T22:54:38.575380",
          "exception": false,
          "start_time": "2025-02-04T22:50:17.094967",
          "status": "completed"
        },
        "tags": [],
        "id": "46e89e32",
        "outputId": "6317f30c-48cf-4558-8570-0b6effa9faf0"
      },
      "outputs": [
        {
          "name": "stderr",
          "output_type": "stream",
          "text": [
            "100%|██████████| 48439/48439 [02:10<00:00, 371.28it/s]\n",
            "100%|██████████| 48439/48439 [02:10<00:00, 369.80it/s]\n"
          ]
        }
      ],
      "source": [
        "train = add_cosine_similarity_feature(df_train, 'prompt', 'response_a', 'response_a_similarity')\n",
        "train = add_cosine_similarity_feature(df_train, 'prompt', 'response_b', 'response_b_similarity')"
      ]
    },
    {
      "cell_type": "code",
      "execution_count": null,
      "id": "17439885",
      "metadata": {
        "execution": {
          "iopub.execute_input": "2025-02-04T22:54:38.830103Z",
          "iopub.status.busy": "2025-02-04T22:54:38.829758Z",
          "iopub.status.idle": "2025-02-04T22:54:38.859805Z",
          "shell.execute_reply": "2025-02-04T22:54:38.858920Z"
        },
        "papermill": {
          "duration": 0.156075,
          "end_time": "2025-02-04T22:54:38.861100",
          "exception": false,
          "start_time": "2025-02-04T22:54:38.705025",
          "status": "completed"
        },
        "tags": [],
        "id": "17439885",
        "outputId": "ea0d1223-1d7b-4ecf-c4f1-02d40bda59b9"
      },
      "outputs": [
        {
          "name": "stderr",
          "output_type": "stream",
          "text": [
            "100%|██████████| 3/3 [00:00<00:00, 284.44it/s]\n",
            "100%|██████████| 3/3 [00:00<00:00, 314.77it/s]\n"
          ]
        }
      ],
      "source": [
        "test = add_cosine_similarity_feature(df_test, 'prompt', 'response_a', 'response_a_similarity')\n",
        "test = add_cosine_similarity_feature(df_test, 'prompt', 'response_b', 'response_b_similarity')"
      ]
    },
    {
      "cell_type": "code",
      "execution_count": null,
      "id": "58c5314c",
      "metadata": {
        "execution": {
          "iopub.execute_input": "2025-02-04T22:55:09.431021Z",
          "iopub.status.busy": "2025-02-04T22:55:09.430676Z",
          "iopub.status.idle": "2025-02-04T22:55:09.439894Z",
          "shell.execute_reply": "2025-02-04T22:55:09.439103Z"
        },
        "papermill": {
          "duration": 0.134853,
          "end_time": "2025-02-04T22:55:09.441097",
          "exception": false,
          "start_time": "2025-02-04T22:55:09.306244",
          "status": "completed"
        },
        "tags": [],
        "id": "58c5314c",
        "outputId": "378150af-ff03-48d7-a7c0-7bd1e2790975"
      },
      "outputs": [
        {
          "data": {
            "text/plain": [
              "Index(['id', 'prompt', 'response_a', 'response_b', 'winner', 'model_a',\n",
              "       'model_b', 'language', 'space_count_a', 'space_count_b', 'len_winner',\n",
              "       'len_loser', 'len_a', 'len_b', 'winner_len_ratio', 'response_a_ratio',\n",
              "       'response_b_ratio', 'winner_ind', 'response_a_similarity',\n",
              "       'response_b_similarity', 'response_a_similarity_ratio',\n",
              "       'response_b_similarity_ratio'],\n",
              "      dtype='object')"
            ]
          },
          "execution_count": 20,
          "metadata": {},
          "output_type": "execute_result"
        }
      ],
      "source": [
        "df_train['response_a_similarity_ratio'] = df_train['response_a_similarity']-(df_train['response_b_similarity'])\n",
        "df_test['response_a_similarity_ratio'] = df_test['response_a_similarity']-df_test['response_b_similarity']\n",
        "df_train['response_b_similarity_ratio'] = df_train['response_b_similarity']-df_train['response_a_similarity']\n",
        "df_test['response_b_similarity_ratio'] = df_test['response_b_similarity']-df_test['response_a_similarity']\n",
        "\n",
        "df_train.columns"
      ]
    },
    {
      "cell_type": "code",
      "execution_count": null,
      "id": "5e085f81",
      "metadata": {
        "execution": {
          "iopub.execute_input": "2025-02-04T22:55:09.730641Z",
          "iopub.status.busy": "2025-02-04T22:55:09.730347Z",
          "iopub.status.idle": "2025-02-04T22:55:09.737359Z",
          "shell.execute_reply": "2025-02-04T22:55:09.736672Z"
        },
        "papermill": {
          "duration": 0.173234,
          "end_time": "2025-02-04T22:55:09.738788",
          "exception": false,
          "start_time": "2025-02-04T22:55:09.565554",
          "status": "completed"
        },
        "tags": [],
        "id": "5e085f81"
      },
      "outputs": [],
      "source": [
        "X_train_response_a_simrat = df_train.loc[idx_train,\"response_a_similarity_ratio\"]\n",
        "X_val_response_a_simrat = df_train.loc[idx_validation,\"response_a_similarity_ratio\"]"
      ]
    },
    {
      "cell_type": "code",
      "execution_count": null,
      "id": "0c0c4275",
      "metadata": {
        "execution": {
          "iopub.execute_input": "2025-02-04T22:55:10.816982Z",
          "iopub.status.busy": "2025-02-04T22:55:10.816702Z",
          "iopub.status.idle": "2025-02-04T22:55:10.825975Z",
          "shell.execute_reply": "2025-02-04T22:55:10.825169Z"
        },
        "papermill": {
          "duration": 0.135793,
          "end_time": "2025-02-04T22:55:10.827161",
          "exception": false,
          "start_time": "2025-02-04T22:55:10.691368",
          "status": "completed"
        },
        "tags": [],
        "id": "0c0c4275",
        "outputId": "3baf8822-9cf5-4782-a750-4a35e2535c7d"
      },
      "outputs": [
        {
          "data": {
            "text/plain": [
              "count    48439.000000\n",
              "mean         0.000055\n",
              "std          0.145510\n",
              "min         -1.000000\n",
              "25%         -0.060539\n",
              "50%          0.000000\n",
              "75%          0.060223\n",
              "max          1.000000\n",
              "Name: response_a_similarity_ratio, dtype: float64"
            ]
          },
          "execution_count": 23,
          "metadata": {},
          "output_type": "execute_result"
        }
      ],
      "source": [
        "df_train['response_a_similarity_ratio'].describe()"
      ]
    },
    {
      "cell_type": "code",
      "execution_count": null,
      "id": "e7fb5ebc",
      "metadata": {
        "execution": {
          "iopub.execute_input": "2025-02-04T22:55:11.075817Z",
          "iopub.status.busy": "2025-02-04T22:55:11.075535Z",
          "iopub.status.idle": "2025-02-04T22:55:11.838733Z",
          "shell.execute_reply": "2025-02-04T22:55:11.837922Z"
        },
        "papermill": {
          "duration": 0.889791,
          "end_time": "2025-02-04T22:55:11.840099",
          "exception": false,
          "start_time": "2025-02-04T22:55:10.950308",
          "status": "completed"
        },
        "tags": [],
        "id": "e7fb5ebc",
        "outputId": "6bf03788-69e6-44ac-bfbc-b0c92371e6d0"
      },
      "outputs": [
        {
          "data": {
            "text/plain": [
              "(38751, 620008)"
            ]
          },
          "execution_count": 24,
          "metadata": {},
          "output_type": "execute_result"
        }
      ],
      "source": [
        "X_train_all_features = hstack([train_feats, df_train.loc[idx_train, 'response_a_similarity_ratio'].values.reshape(-1, 1)])\n",
        "X_train_all_features.shape"
      ]
    },
    {
      "cell_type": "code",
      "execution_count": null,
      "id": "e1d5f4be",
      "metadata": {
        "execution": {
          "iopub.execute_input": "2025-02-04T22:55:12.090038Z",
          "iopub.status.busy": "2025-02-04T22:55:12.089713Z",
          "iopub.status.idle": "2025-02-04T22:55:12.260835Z",
          "shell.execute_reply": "2025-02-04T22:55:12.259989Z"
        },
        "papermill": {
          "duration": 0.297259,
          "end_time": "2025-02-04T22:55:12.262280",
          "exception": false,
          "start_time": "2025-02-04T22:55:11.965021",
          "status": "completed"
        },
        "tags": [],
        "id": "e1d5f4be",
        "outputId": "90fedb2e-38ef-4b06-c3d6-a61d1027ed4b"
      },
      "outputs": [
        {
          "data": {
            "text/plain": [
              "(9688, 620008)"
            ]
          },
          "execution_count": 25,
          "metadata": {},
          "output_type": "execute_result"
        }
      ],
      "source": [
        "X_val_all_features = hstack([val_feats, df_train.loc[idx_validation, 'response_a_similarity_ratio'].values.reshape(-1, 1)])\n",
        "X_val_all_features.shape"
      ]
    },
    {
      "cell_type": "code",
      "execution_count": null,
      "id": "e3e70ba5",
      "metadata": {
        "execution": {
          "iopub.execute_input": "2025-02-04T22:55:12.514698Z",
          "iopub.status.busy": "2025-02-04T22:55:12.514406Z",
          "iopub.status.idle": "2025-02-04T22:55:12.520390Z",
          "shell.execute_reply": "2025-02-04T22:55:12.519651Z"
        },
        "papermill": {
          "duration": 0.13073,
          "end_time": "2025-02-04T22:55:12.521598",
          "exception": false,
          "start_time": "2025-02-04T22:55:12.390868",
          "status": "completed"
        },
        "tags": [],
        "id": "e3e70ba5",
        "outputId": "0923ae65-596d-46f4-ca74-ad65392e152a"
      },
      "outputs": [
        {
          "data": {
            "text/plain": [
              "(3, 620008)"
            ]
          },
          "execution_count": 26,
          "metadata": {},
          "output_type": "execute_result"
        }
      ],
      "source": [
        "X_test_all_features = hstack([test_feats, df_test['response_a_similarity_ratio'].values.reshape(-1, 1)])\n",
        "X_test_all_features.shape"
      ]
    },
    {
      "cell_type": "code",
      "execution_count": null,
      "id": "8985f8c0",
      "metadata": {
        "execution": {
          "iopub.execute_input": "2025-02-04T22:55:13.061878Z",
          "iopub.status.busy": "2025-02-04T22:55:13.061576Z",
          "iopub.status.idle": "2025-02-04T22:59:50.880333Z",
          "shell.execute_reply": "2025-02-04T22:59:50.879604Z"
        },
        "papermill": {
          "duration": 277.946037,
          "end_time": "2025-02-04T22:59:50.881921",
          "exception": false,
          "start_time": "2025-02-04T22:55:12.935884",
          "status": "completed"
        },
        "tags": [],
        "id": "8985f8c0"
      },
      "outputs": [],
      "source": [
        "def sentiment_calc(text):\n",
        "    try:\n",
        "        return TextBlob(text).sentiment\n",
        "    except:\n",
        "        return 0.0\n",
        "\n",
        "df_train[['polarity_a', 'subjectivity_a']] = df_train['response_a'].apply(lambda Text: pd.Series(TextBlob(Text).sentiment))\n",
        "df_train[['polarity_b', 'subjectivity_b']] = df_train['response_b'].apply(lambda Text: pd.Series(TextBlob(Text).sentiment))\n",
        "df_train[['polarity_prompt', 'subjectivity_prompt']] = df_train['prompt'].apply(lambda Text: pd.Series(TextBlob(Text).sentiment))\n",
        "df_test[['polarity_a', 'subjectivity_a']] = df_test['response_a'].apply(lambda Text: pd.Series(TextBlob(Text).sentiment))\n",
        "df_test[['polarity_b', 'subjectivity_b']] = df_test['response_b'].apply(lambda Text: pd.Series(TextBlob(Text).sentiment))\n",
        "df_test[['polarity_prompt', 'subjectivity_prompt']] = df_test['prompt'].apply(lambda Text: pd.Series(TextBlob(Text).sentiment))\n",
        "\n",
        "df_train['polarity_a_score'] = df_train['polarity_prompt'] - df_train['polarity_a']\n",
        "df_train['polarity_b_score'] = df_train['polarity_prompt'] - df_train['polarity_b']\n",
        "df_test['polarity_a_score'] = df_test['polarity_prompt'] - df_test['polarity_a']\n",
        "df_test['polarity_b_score'] = df_test['polarity_prompt'] - df_test['polarity_b']"
      ]
    },
    {
      "cell_type": "code",
      "execution_count": null,
      "id": "9e0f23c2",
      "metadata": {
        "execution": {
          "iopub.execute_input": "2025-02-04T22:59:51.139601Z",
          "iopub.status.busy": "2025-02-04T22:59:51.139331Z",
          "iopub.status.idle": "2025-02-04T22:59:51.147243Z",
          "shell.execute_reply": "2025-02-04T22:59:51.146416Z"
        },
        "papermill": {
          "duration": 0.134537,
          "end_time": "2025-02-04T22:59:51.148415",
          "exception": false,
          "start_time": "2025-02-04T22:59:51.013878",
          "status": "completed"
        },
        "tags": [],
        "id": "9e0f23c2"
      },
      "outputs": [],
      "source": [
        "df_train['subjectivity_a_score'] = df_train['subjectivity_prompt'] - df_train['subjectivity_a']\n",
        "df_train['subjectivity_b_score'] = df_train['subjectivity_prompt'] - df_train['subjectivity_b']\n",
        "df_test['subjectivity_a_score'] = df_test['subjectivity_prompt'] - df_test['subjectivity_a']\n",
        "df_test['subjectivity_b_score'] = df_test['subjectivity_prompt'] - df_test['subjectivity_b']\n",
        "\n",
        "df_train['subjectivity_score'] = df_train['subjectivity_a_score'] - df_train['subjectivity_b_score']\n",
        "df_test['subjectivity_score'] = df_test['subjectivity_a_score'] - df_test['subjectivity_b_score']"
      ]
    },
    {
      "cell_type": "code",
      "execution_count": null,
      "id": "f3a3e128",
      "metadata": {
        "execution": {
          "iopub.execute_input": "2025-02-04T22:59:51.400030Z",
          "iopub.status.busy": "2025-02-04T22:59:51.399720Z",
          "iopub.status.idle": "2025-02-04T23:04:30.187224Z",
          "shell.execute_reply": "2025-02-04T23:04:30.186292Z"
        },
        "papermill": {
          "duration": 278.914469,
          "end_time": "2025-02-04T23:04:30.189041",
          "exception": false,
          "start_time": "2025-02-04T22:59:51.274572",
          "status": "completed"
        },
        "tags": [],
        "id": "f3a3e128"
      },
      "outputs": [],
      "source": [
        "sent = SentimentIntensityAnalyzer()\n",
        "\n",
        "polarity = [round(sent.polarity_scores(i)['compound'], 2) for i in df_train['response_a']]\n",
        "df_train['sentiment_score_a'] = polarity\n",
        "polarity = [round(sent.polarity_scores(i)['compound'], 2) for i in df_train['response_b']]\n",
        "df_train['sentiment_score_b'] = polarity\n",
        "polarity = [round(sent.polarity_scores(i)['compound'], 2) for i in df_train['prompt']]\n",
        "df_train['sentiment_score_prompt'] = polarity"
      ]
    },
    {
      "cell_type": "code",
      "execution_count": null,
      "id": "351b9c81",
      "metadata": {
        "execution": {
          "iopub.execute_input": "2025-02-04T23:04:30.442298Z",
          "iopub.status.busy": "2025-02-04T23:04:30.442005Z",
          "iopub.status.idle": "2025-02-04T23:04:30.462113Z",
          "shell.execute_reply": "2025-02-04T23:04:30.461353Z"
        },
        "papermill": {
          "duration": 0.146556,
          "end_time": "2025-02-04T23:04:30.463249",
          "exception": false,
          "start_time": "2025-02-04T23:04:30.316693",
          "status": "completed"
        },
        "tags": [],
        "id": "351b9c81"
      },
      "outputs": [],
      "source": [
        "polarity = [round(sent.polarity_scores(i)['compound'], 2) for i in df_test['response_a']]\n",
        "df_test['sentiment_score_a'] = polarity\n",
        "polarity = [round(sent.polarity_scores(i)['compound'], 2) for i in df_test['response_b']]\n",
        "df_test['sentiment_score_b'] = polarity\n",
        "polarity = [round(sent.polarity_scores(i)['compound'], 2) for i in df_test['prompt']]\n",
        "df_test['sentiment_score_prompt'] = polarity"
      ]
    },
    {
      "cell_type": "code",
      "execution_count": null,
      "id": "5611db68",
      "metadata": {
        "execution": {
          "iopub.execute_input": "2025-02-04T23:04:30.713505Z",
          "iopub.status.busy": "2025-02-04T23:04:30.713217Z",
          "iopub.status.idle": "2025-02-04T23:04:30.720267Z",
          "shell.execute_reply": "2025-02-04T23:04:30.719431Z"
        },
        "papermill": {
          "duration": 0.133482,
          "end_time": "2025-02-04T23:04:30.721458",
          "exception": false,
          "start_time": "2025-02-04T23:04:30.587976",
          "status": "completed"
        },
        "tags": [],
        "id": "5611db68"
      },
      "outputs": [],
      "source": [
        "df_train['v_polarity_a_score'] = df_train['sentiment_score_prompt'] - df_train['sentiment_score_a']\n",
        "df_train['v_polarity_b_score'] = df_train['sentiment_score_prompt'] - df_train['sentiment_score_b']\n",
        "df_test['v_polarity_a_score'] = df_test['sentiment_score_prompt'] - df_test['sentiment_score_a']\n",
        "df_test['v_polarity_b_score'] = df_test['sentiment_score_prompt'] - df_test['sentiment_score_b']"
      ]
    },
    {
      "cell_type": "code",
      "execution_count": null,
      "id": "9b344fe0",
      "metadata": {
        "execution": {
          "iopub.execute_input": "2025-02-04T23:04:32.313322Z",
          "iopub.status.busy": "2025-02-04T23:04:32.313019Z",
          "iopub.status.idle": "2025-02-04T23:04:32.317093Z",
          "shell.execute_reply": "2025-02-04T23:04:32.316194Z"
        },
        "papermill": {
          "duration": 0.131638,
          "end_time": "2025-02-04T23:04:32.318431",
          "exception": false,
          "start_time": "2025-02-04T23:04:32.186793",
          "status": "completed"
        },
        "tags": [],
        "id": "9b344fe0"
      },
      "outputs": [],
      "source": [
        "def langdetector(text):\n",
        "    return langid.classify(text)[0]\n",
        "\n",
        "def isEnglish(s):\n",
        "  return s.isascii()"
      ]
    },
    {
      "cell_type": "code",
      "execution_count": null,
      "id": "a012201a",
      "metadata": {
        "execution": {
          "iopub.execute_input": "2025-02-04T23:04:32.568456Z",
          "iopub.status.busy": "2025-02-04T23:04:32.568195Z",
          "iopub.status.idle": "2025-02-04T23:04:32.572342Z",
          "shell.execute_reply": "2025-02-04T23:04:32.571682Z"
        },
        "papermill": {
          "duration": 0.130698,
          "end_time": "2025-02-04T23:04:32.573586",
          "exception": false,
          "start_time": "2025-02-04T23:04:32.442888",
          "status": "completed"
        },
        "tags": [],
        "id": "a012201a"
      },
      "outputs": [],
      "source": [
        "df_test['isEnglish'] = df_test['response_a'].apply(isEnglish)"
      ]
    },
    {
      "cell_type": "code",
      "execution_count": null,
      "id": "e2dc60a7",
      "metadata": {
        "execution": {
          "iopub.execute_input": "2025-02-04T23:04:32.863996Z",
          "iopub.status.busy": "2025-02-04T23:04:32.863677Z",
          "iopub.status.idle": "2025-02-04T23:05:34.636967Z",
          "shell.execute_reply": "2025-02-04T23:05:34.636137Z"
        },
        "papermill": {
          "duration": 62.068445,
          "end_time": "2025-02-04T23:05:34.766530",
          "exception": false,
          "start_time": "2025-02-04T23:04:32.698085",
          "status": "completed"
        },
        "tags": [],
        "id": "e2dc60a7",
        "outputId": "3bd0a6a8-9fbc-4f20-8190-5f0e8e9a9934"
      },
      "outputs": [
        {
          "data": {
            "text/html": [
              "<div>\n",
              "<style scoped>\n",
              "    .dataframe tbody tr th:only-of-type {\n",
              "        vertical-align: middle;\n",
              "    }\n",
              "\n",
              "    .dataframe tbody tr th {\n",
              "        vertical-align: top;\n",
              "    }\n",
              "\n",
              "    .dataframe thead th {\n",
              "        text-align: right;\n",
              "    }\n",
              "</style>\n",
              "<table border=\"1\" class=\"dataframe\">\n",
              "  <thead>\n",
              "    <tr style=\"text-align: right;\">\n",
              "      <th></th>\n",
              "      <th>id</th>\n",
              "      <th>prompt</th>\n",
              "      <th>response_a</th>\n",
              "      <th>response_b</th>\n",
              "      <th>winner</th>\n",
              "      <th>model_a</th>\n",
              "      <th>model_b</th>\n",
              "      <th>language</th>\n",
              "      <th>space_count_a</th>\n",
              "      <th>space_count_b</th>\n",
              "      <th>...</th>\n",
              "      <th>subjectivity_a_score</th>\n",
              "      <th>subjectivity_b_score</th>\n",
              "      <th>subjectivity_score</th>\n",
              "      <th>sentiment_score_a</th>\n",
              "      <th>sentiment_score_b</th>\n",
              "      <th>sentiment_score_prompt</th>\n",
              "      <th>v_polarity_a_score</th>\n",
              "      <th>v_polarity_b_score</th>\n",
              "      <th>lang_</th>\n",
              "      <th>isEnglish</th>\n",
              "    </tr>\n",
              "  </thead>\n",
              "  <tbody>\n",
              "    <tr>\n",
              "      <th>0</th>\n",
              "      <td>00007cff95d7f7974642a785aca248b0f26e60d3312fac...</td>\n",
              "      <td>vieš po slovensky?</td>\n",
              "      <td>áno, hovorím po slovensky. ako vám môžem pomôcť?</td>\n",
              "      <td>áno, veď som tu! môžem ti pomôcť s otázkami al...</td>\n",
              "      <td>model_a</td>\n",
              "      <td>o1-preview</td>\n",
              "      <td>reka-core-20240904</td>\n",
              "      <td>Slovak</td>\n",
              "      <td>8</td>\n",
              "      <td>36</td>\n",
              "      <td>...</td>\n",
              "      <td>0.000000</td>\n",
              "      <td>0.000000</td>\n",
              "      <td>0.000000</td>\n",
              "      <td>-0.56</td>\n",
              "      <td>0.56</td>\n",
              "      <td>-0.56</td>\n",
              "      <td>0.00</td>\n",
              "      <td>-1.12</td>\n",
              "      <td>sl</td>\n",
              "      <td>False</td>\n",
              "    </tr>\n",
              "    <tr>\n",
              "      <th>1</th>\n",
              "      <td>00010ed04b536f56ebe43eef1100c13906abea12bf9855...</td>\n",
              "      <td>you will be given a piece of news. analyze it ...</td>\n",
              "      <td>let's break down the news and analyze it accor...</td>\n",
              "      <td>```json\\n{\\n  \"contains_orgs\": true,\\n  \"orgs\"...</td>\n",
              "      <td>model_a</td>\n",
              "      <td>gemma-2-27b-it</td>\n",
              "      <td>gemini-1.5-flash-002</td>\n",
              "      <td>Russian</td>\n",
              "      <td>195</td>\n",
              "      <td>29</td>\n",
              "      <td>...</td>\n",
              "      <td>0.046321</td>\n",
              "      <td>-0.111375</td>\n",
              "      <td>0.157696</td>\n",
              "      <td>0.66</td>\n",
              "      <td>0.42</td>\n",
              "      <td>-0.62</td>\n",
              "      <td>-1.28</td>\n",
              "      <td>-1.04</td>\n",
              "      <td>ru</td>\n",
              "      <td>False</td>\n",
              "    </tr>\n",
              "    <tr>\n",
              "      <th>2</th>\n",
              "      <td>0003800d510e38803efba5ceaec122bc66408fe367b0be...</td>\n",
              "      <td>dört basamaklı, rakamları birbirinden ve sıfır...</td>\n",
              "      <td>bu soruyu çözmek için, verilen koşulları adım ...</td>\n",
              "      <td>bu problemi adım adım çözelim:\\n\\n1) abcd - dc...</td>\n",
              "      <td>model_a</td>\n",
              "      <td>gpt-4-0125-preview</td>\n",
              "      <td>claude-3-5-sonnet-20240620</td>\n",
              "      <td>Turkish</td>\n",
              "      <td>304</td>\n",
              "      <td>186</td>\n",
              "      <td>...</td>\n",
              "      <td>-1.000000</td>\n",
              "      <td>-1.000000</td>\n",
              "      <td>0.000000</td>\n",
              "      <td>0.00</td>\n",
              "      <td>0.44</td>\n",
              "      <td>0.00</td>\n",
              "      <td>0.00</td>\n",
              "      <td>-0.44</td>\n",
              "      <td>tr</td>\n",
              "      <td>False</td>\n",
              "    </tr>\n",
              "    <tr>\n",
              "      <th>3</th>\n",
              "      <td>00072026c68f5418ef2da238394e418ce72a534b9b22d5...</td>\n",
              "      <td>현재 추천된 탑 3 종목인 cabaletta bio (caba), rocket ph...</td>\n",
              "      <td>죄송하지만 저는 금융 조언을 제공할 수 없습니다. 저는 ai 모델이며, 투자 결정에...</td>\n",
              "      <td>현재 추천된 탑 3 종목에 순위를 매기기 위해서는 여러 가지 요소들을 고려해야 합니...</td>\n",
              "      <td>model_b</td>\n",
              "      <td>gemma-2-2b-it</td>\n",
              "      <td>llama-3.1-nemotron-70b-instruct</td>\n",
              "      <td>English</td>\n",
              "      <td>95</td>\n",
              "      <td>414</td>\n",
              "      <td>...</td>\n",
              "      <td>0.000000</td>\n",
              "      <td>0.000000</td>\n",
              "      <td>0.000000</td>\n",
              "      <td>0.00</td>\n",
              "      <td>0.00</td>\n",
              "      <td>0.00</td>\n",
              "      <td>0.00</td>\n",
              "      <td>0.00</td>\n",
              "      <td>ko</td>\n",
              "      <td>False</td>\n",
              "    </tr>\n",
              "    <tr>\n",
              "      <th>4</th>\n",
              "      <td>0007ce7cf6bc1b5a8f8a4669b854fb12030863c970d9dc...</td>\n",
              "      <td>please be boring</td>\n",
              "      <td>alright, i'll be as boring as possible.\\n\\ntod...</td>\n",
              "      <td>understood. here is a straightforward, unadorn...</td>\n",
              "      <td>model_a</td>\n",
              "      <td>reka-flash-20240722</td>\n",
              "      <td>grok-2-2024-08-13</td>\n",
              "      <td>English</td>\n",
              "      <td>229</td>\n",
              "      <td>52</td>\n",
              "      <td>...</td>\n",
              "      <td>0.671334</td>\n",
              "      <td>0.406944</td>\n",
              "      <td>0.264390</td>\n",
              "      <td>0.59</td>\n",
              "      <td>0.36</td>\n",
              "      <td>0.00</td>\n",
              "      <td>-0.59</td>\n",
              "      <td>-0.36</td>\n",
              "      <td>en</td>\n",
              "      <td>True</td>\n",
              "    </tr>\n",
              "  </tbody>\n",
              "</table>\n",
              "<p>5 rows × 40 columns</p>\n",
              "</div>"
            ],
            "text/plain": [
              "                                                  id  \\\n",
              "0  00007cff95d7f7974642a785aca248b0f26e60d3312fac...   \n",
              "1  00010ed04b536f56ebe43eef1100c13906abea12bf9855...   \n",
              "2  0003800d510e38803efba5ceaec122bc66408fe367b0be...   \n",
              "3  00072026c68f5418ef2da238394e418ce72a534b9b22d5...   \n",
              "4  0007ce7cf6bc1b5a8f8a4669b854fb12030863c970d9dc...   \n",
              "\n",
              "                                              prompt  \\\n",
              "0                                 vieš po slovensky?   \n",
              "1  you will be given a piece of news. analyze it ...   \n",
              "2  dört basamaklı, rakamları birbirinden ve sıfır...   \n",
              "3  현재 추천된 탑 3 종목인 cabaletta bio (caba), rocket ph...   \n",
              "4                                  please be boring    \n",
              "\n",
              "                                          response_a  \\\n",
              "0   áno, hovorím po slovensky. ako vám môžem pomôcť?   \n",
              "1  let's break down the news and analyze it accor...   \n",
              "2  bu soruyu çözmek için, verilen koşulları adım ...   \n",
              "3  죄송하지만 저는 금융 조언을 제공할 수 없습니다. 저는 ai 모델이며, 투자 결정에...   \n",
              "4  alright, i'll be as boring as possible.\\n\\ntod...   \n",
              "\n",
              "                                          response_b   winner  \\\n",
              "0  áno, veď som tu! môžem ti pomôcť s otázkami al...  model_a   \n",
              "1  ```json\\n{\\n  \"contains_orgs\": true,\\n  \"orgs\"...  model_a   \n",
              "2  bu problemi adım adım çözelim:\\n\\n1) abcd - dc...  model_a   \n",
              "3  현재 추천된 탑 3 종목에 순위를 매기기 위해서는 여러 가지 요소들을 고려해야 합니...  model_b   \n",
              "4  understood. here is a straightforward, unadorn...  model_a   \n",
              "\n",
              "               model_a                          model_b language  \\\n",
              "0           o1-preview               reka-core-20240904   Slovak   \n",
              "1       gemma-2-27b-it             gemini-1.5-flash-002  Russian   \n",
              "2   gpt-4-0125-preview       claude-3-5-sonnet-20240620  Turkish   \n",
              "3        gemma-2-2b-it  llama-3.1-nemotron-70b-instruct  English   \n",
              "4  reka-flash-20240722                grok-2-2024-08-13  English   \n",
              "\n",
              "   space_count_a  space_count_b  ...  subjectivity_a_score  \\\n",
              "0              8             36  ...              0.000000   \n",
              "1            195             29  ...              0.046321   \n",
              "2            304            186  ...             -1.000000   \n",
              "3             95            414  ...              0.000000   \n",
              "4            229             52  ...              0.671334   \n",
              "\n",
              "   subjectivity_b_score  subjectivity_score  sentiment_score_a  \\\n",
              "0              0.000000            0.000000              -0.56   \n",
              "1             -0.111375            0.157696               0.66   \n",
              "2             -1.000000            0.000000               0.00   \n",
              "3              0.000000            0.000000               0.00   \n",
              "4              0.406944            0.264390               0.59   \n",
              "\n",
              "   sentiment_score_b  sentiment_score_prompt  v_polarity_a_score  \\\n",
              "0               0.56                   -0.56                0.00   \n",
              "1               0.42                   -0.62               -1.28   \n",
              "2               0.44                    0.00                0.00   \n",
              "3               0.00                    0.00                0.00   \n",
              "4               0.36                    0.00               -0.59   \n",
              "\n",
              "   v_polarity_b_score  lang_  isEnglish  \n",
              "0               -1.12     sl      False  \n",
              "1               -1.04     ru      False  \n",
              "2               -0.44     tr      False  \n",
              "3                0.00     ko      False  \n",
              "4               -0.36     en       True  \n",
              "\n",
              "[5 rows x 40 columns]"
            ]
          },
          "execution_count": 36,
          "metadata": {},
          "output_type": "execute_result"
        }
      ],
      "source": [
        "df_train['lang_'] = df_train['prompt'].apply(langdetector)\n",
        "df_train['isEnglish'] = df_train['response_a'].apply(isEnglish)\n",
        "df_train.head()"
      ]
    },
    {
      "cell_type": "code",
      "execution_count": null,
      "id": "f963c063",
      "metadata": {
        "execution": {
          "iopub.execute_input": "2025-02-04T23:05:35.017216Z",
          "iopub.status.busy": "2025-02-04T23:05:35.016896Z",
          "iopub.status.idle": "2025-02-04T23:05:35.024668Z",
          "shell.execute_reply": "2025-02-04T23:05:35.023919Z"
        },
        "papermill": {
          "duration": 0.134044,
          "end_time": "2025-02-04T23:05:35.025781",
          "exception": false,
          "start_time": "2025-02-04T23:05:34.891737",
          "status": "completed"
        },
        "tags": [],
        "id": "f963c063",
        "outputId": "c7382192-83d3-4c2b-f73f-39ffd0a3e28f"
      },
      "outputs": [
        {
          "name": "stdout",
          "output_type": "stream",
          "text": [
            "lang_\n",
            "en    23467\n",
            "ru     7220\n",
            "zh     4782\n",
            "vi     3156\n",
            "de     1489\n",
            "ja     1215\n",
            "ko     1189\n",
            "es      949\n",
            "fr      791\n",
            "pt      570\n",
            "Name: count, dtype: int64\n"
          ]
        }
      ],
      "source": [
        "print(df_train['lang_'].value_counts().head(10))"
      ]
    },
    {
      "cell_type": "code",
      "execution_count": null,
      "id": "4edc1889",
      "metadata": {
        "execution": {
          "iopub.execute_input": "2025-02-04T23:05:35.698148Z",
          "iopub.status.busy": "2025-02-04T23:05:35.697783Z",
          "iopub.status.idle": "2025-02-04T23:05:35.759825Z",
          "shell.execute_reply": "2025-02-04T23:05:35.758898Z"
        },
        "papermill": {
          "duration": 0.190554,
          "end_time": "2025-02-04T23:05:35.761490",
          "exception": false,
          "start_time": "2025-02-04T23:05:35.570936",
          "status": "completed"
        },
        "tags": [],
        "id": "4edc1889"
      },
      "outputs": [],
      "source": [
        "df_train = pd.get_dummies(df_train,columns = ['lang_'], dtype= int)"
      ]
    },
    {
      "cell_type": "code",
      "execution_count": null,
      "id": "443aab83",
      "metadata": {
        "execution": {
          "iopub.execute_input": "2025-02-04T23:05:36.016633Z",
          "iopub.status.busy": "2025-02-04T23:05:36.016336Z",
          "iopub.status.idle": "2025-02-04T23:05:36.029730Z",
          "shell.execute_reply": "2025-02-04T23:05:36.028889Z"
        },
        "papermill": {
          "duration": 0.141259,
          "end_time": "2025-02-04T23:05:36.031186",
          "exception": false,
          "start_time": "2025-02-04T23:05:35.889927",
          "status": "completed"
        },
        "tags": [],
        "id": "443aab83"
      },
      "outputs": [],
      "source": [
        "df_test['lang_'] = df_test['prompt'].apply(langdetector)\n",
        "df_test = pd.get_dummies(df_test,columns = ['lang_'], dtype= int)"
      ]
    },
    {
      "cell_type": "code",
      "execution_count": null,
      "id": "7e0560dd",
      "metadata": {
        "execution": {
          "iopub.execute_input": "2025-02-04T23:05:36.288310Z",
          "iopub.status.busy": "2025-02-04T23:05:36.287997Z",
          "iopub.status.idle": "2025-02-04T23:05:36.294295Z",
          "shell.execute_reply": "2025-02-04T23:05:36.293303Z"
        },
        "papermill": {
          "duration": 0.13356,
          "end_time": "2025-02-04T23:05:36.295535",
          "exception": false,
          "start_time": "2025-02-04T23:05:36.161975",
          "status": "completed"
        },
        "tags": [],
        "id": "7e0560dd"
      },
      "outputs": [],
      "source": [
        "cols = df_train.columns.union(df_test.columns)\n",
        "df_test = df_test.reindex(cols, axis=1, fill_value=0)"
      ]
    },
    {
      "cell_type": "code",
      "execution_count": null,
      "id": "7395b3af",
      "metadata": {
        "id": "7395b3af"
      },
      "outputs": [],
      "source": [
        "features_to_add = [\n",
        "    'polarity_a', 'subjectivity_a', 'subjectivity_score',\n",
        "    'polarity_a_score', 'polarity_b_score',\n",
        "    'polarity_b', 'subjectivity_b',\n",
        "\n",
        "    'sentiment_score_a', 'sentiment_score_b',\n",
        "    'v_polarity_b_score',\n",
        "\n",
        "    'isEnglish', 'len_a', 'len_b'\n",
        "]\n",
        "\n",
        "def add_features(feature_matrix, df, features, indices=None):\n",
        "    for feature in features:\n",
        "        if indices is not None:\n",
        "            values = df.loc[indices, feature].values.reshape(-1, 1)\n",
        "        else:\n",
        "            values = df[feature].values.reshape(-1, 1)\n",
        "        feature_matrix = hstack([feature_matrix, values])\n",
        "    return feature_matrix\n",
        "\n",
        "X_train_all_features = add_features(X_train_all_features, df_train, features_to_add, idx_train)\n",
        "X_val_all_features = add_features(X_val_all_features, df_train, features_to_add, idx_validation)\n",
        "X_test_all_features = add_features(X_test_all_features, df_test, features_to_add)"
      ]
    },
    {
      "cell_type": "code",
      "execution_count": null,
      "id": "6e383d60",
      "metadata": {
        "id": "6e383d60"
      },
      "outputs": [],
      "source": [
        "def count_punct(text):\n",
        "    if not isinstance(text, str) or len(text) == 0:\n",
        "        return 0.0\n",
        "    count = sum(1 for char in text if char in string.punctuation)\n",
        "    text_len = len(text) - text.count(\" \")\n",
        "    return round(count / text_len * 100, 3) if text_len > 0 else 0.0\n",
        "\n",
        "\n",
        "df_train['punct%_a'] = df_train['response_a'].apply(count_punct)\n",
        "df_train['punct%_b'] = df_train['response_b'].apply(count_punct)\n",
        "df_test['punct%_a'] = df_test['response_a'].apply(count_punct)\n",
        "df_test['punct%_b'] = df_test['response_b'].apply(count_punct)\n",
        "\n",
        "df_train['len_diff'] = df_train['len_a'] - df_train['len_b']\n",
        "df_test['len_diff'] = df_test['len_a'] - df_test['len_b']"
      ]
    },
    {
      "cell_type": "code",
      "execution_count": null,
      "id": "47c1e0a7",
      "metadata": {
        "id": "47c1e0a7"
      },
      "outputs": [],
      "source": [
        "def calculate_overlap(row, response_col):\n",
        "    prompt_words = set(str(row['prompt']).split())\n",
        "    response_words = set(str(row[response_col]).split())\n",
        "    overlap = len(prompt_words & response_words)\n",
        "    return overlap / len(prompt_words) if prompt_words else 0.0\n",
        "\n",
        "df_train['overlap_a'] = df_train.apply(lambda x: calculate_overlap(x, 'response_a'), axis=1)\n",
        "df_train['overlap_b'] = df_train.apply(lambda x: calculate_overlap(x, 'response_b'), axis=1)\n",
        "df_train['overlap_score'] = df_train['overlap_a'] - df_train['overlap_b']\n",
        "\n",
        "df_test['overlap_a'] = df_test.apply(lambda x: calculate_overlap(x, 'response_a'), axis=1)\n",
        "df_test['overlap_b'] = df_test.apply(lambda x: calculate_overlap(x, 'response_b'), axis=1)\n",
        "df_test['overlap_score'] = df_test['overlap_a'] - df_test['overlap_b']\n"
      ]
    },
    {
      "cell_type": "code",
      "execution_count": null,
      "id": "25dab693",
      "metadata": {
        "id": "25dab693"
      },
      "outputs": [],
      "source": [
        "features_to_add = [\n",
        "    'punct%_a', 'punct%_b', 'len_diff',\n",
        "    'overlap_a', 'overlap_b', 'overlap_score'\n",
        "]\n",
        "\n",
        "for feature in features_to_add:\n",
        "\n",
        "    X_train_all_features = hstack([\n",
        "        X_train_all_features,\n",
        "        df_train.loc[idx_train, feature].values.reshape(-1, 1)\n",
        "    ])\n",
        "\n",
        "    X_val_all_features = hstack([\n",
        "        X_val_all_features,\n",
        "        df_train.loc[idx_validation, feature].values.reshape(-1, 1)\n",
        "    ])\n",
        "\n",
        "\n",
        "    X_test_all_features = hstack([\n",
        "        X_test_all_features,\n",
        "        df_test[feature].values.reshape(-1, 1)\n",
        "    ])"
      ]
    },
    {
      "cell_type": "code",
      "execution_count": null,
      "id": "506c3821",
      "metadata": {
        "execution": {
          "iopub.execute_input": "2025-02-04T23:06:17.521483Z",
          "iopub.status.busy": "2025-02-04T23:06:17.521198Z",
          "iopub.status.idle": "2025-02-04T23:08:26.640082Z",
          "shell.execute_reply": "2025-02-04T23:08:26.639260Z"
        },
        "papermill": {
          "duration": 129.247751,
          "end_time": "2025-02-04T23:08:26.641674",
          "exception": false,
          "start_time": "2025-02-04T23:06:17.393923",
          "status": "completed"
        },
        "tags": [],
        "id": "506c3821",
        "outputId": "16515219-596a-4f2a-feb6-b91bf3840ff5"
      },
      "outputs": [
        {
          "name": "stdout",
          "output_type": "stream",
          "text": [
            "[LightGBM] [Info] Number of positive: 19166, number of negative: 19585\n",
            "[LightGBM] [Info] This is the GPU trainer!!\n",
            "[LightGBM] [Info] Total Bins 1712350\n",
            "[LightGBM] [Info] Number of data points in the train set: 38751, number of used features: 138758\n",
            "[LightGBM] [Info] Using GPU Device: Tesla P100-PCIE-16GB, Vendor: NVIDIA Corporation\n",
            "[LightGBM] [Info] Compiling OpenCL Kernel with 256 bins...\n",
            "[LightGBM] [Info] GPU programs have been built\n",
            "[LightGBM] [Info] Size of histogram bin entry: 8\n",
            "[LightGBM] [Info] 592 dense feature groups (21.88 MB) transferred to GPU in 0.013264 secs. 1 sparse feature groups\n",
            "[LightGBM] [Info] [binary:BoostFromScore]: pavg=0.494594 -> initscore=-0.021626\n",
            "[LightGBM] [Info] Start training from score -0.021626\n"
          ]
        }
      ],
      "source": [
        "num = 30\n",
        "train_data = lgb.Dataset(X_train_all_features, label=y_train)\n",
        "test_data = lgb.Dataset(X_val_all_features, label=y_val, reference=train_data)\n",
        "\n",
        "params = {\n",
        "    'boosting_type': 'gbdt',\n",
        "    'objective': 'binary',\n",
        "    'device_type':'gpu',\n",
        "    'max_depth':7,\n",
        "    'metric': 'auc',\n",
        "    'num_leaves': 35,\n",
        "    'learning_rate': 0.05,\n",
        "    'feature_fraction': 0.4,\n",
        "    'bagging_fraction': 0.35,\n",
        "    'bagging_freq': 2,\n",
        "    'verbose': 1,\n",
        "    'lambda_l1':0.5,\n",
        "    'lambda_l2':0.9,\n",
        "    'min_data_in_leaf': 20,\n",
        "    'max_bin': 200,\n",
        "    'min_data_in_bin':20\n",
        "}\n",
        "\n",
        "\n",
        "model = lgb.train(params, train_data, num, valid_sets=[test_data])"
      ]
    },
    {
      "cell_type": "code",
      "execution_count": null,
      "id": "599eba0c",
      "metadata": {
        "execution": {
          "iopub.execute_input": "2025-02-04T23:08:27.202221Z",
          "iopub.status.busy": "2025-02-04T23:08:27.201924Z",
          "iopub.status.idle": "2025-02-04T23:08:33.888666Z",
          "shell.execute_reply": "2025-02-04T23:08:33.887939Z"
        },
        "papermill": {
          "duration": 6.816019,
          "end_time": "2025-02-04T23:08:33.890341",
          "exception": false,
          "start_time": "2025-02-04T23:08:27.074322",
          "status": "completed"
        },
        "tags": [],
        "id": "599eba0c",
        "outputId": "c5683f43-f35f-44f8-a418-2b483ea69556"
      },
      "outputs": [
        {
          "name": "stdout",
          "output_type": "stream",
          "text": [
            "0.7106100055223419\n",
            "0.6582519493955067\n"
          ]
        }
      ],
      "source": [
        "print(ras(y_train, model.predict(X_train_all_features)))\n",
        "print(ras(y_val, model.predict(X_val_all_features)))"
      ]
    }
  ],
  "metadata": {
    "kaggle": {
      "accelerator": "gpu",
      "dataSources": [
        {
          "databundleVersionId": 10131489,
          "sourceId": 86946,
          "sourceType": "competition"
        }
      ],
      "isGpuEnabled": true,
      "isInternetEnabled": true,
      "language": "python",
      "sourceType": "notebook"
    },
    "kernelspec": {
      "display_name": "Python 3",
      "language": "python",
      "name": "python3"
    },
    "language_info": {
      "codemirror_mode": {
        "name": "ipython",
        "version": 3
      },
      "file_extension": ".py",
      "mimetype": "text/x-python",
      "name": "python",
      "nbconvert_exporter": "python",
      "pygments_lexer": "ipython3",
      "version": "3.10.12"
    },
    "papermill": {
      "default_parameters": {},
      "duration": 1299.434255,
      "end_time": "2025-02-04T23:08:40.266438",
      "environment_variables": {},
      "exception": null,
      "input_path": "__notebook__.ipynb",
      "output_path": "__notebook__.ipynb",
      "parameters": {},
      "start_time": "2025-02-04T22:47:00.832183",
      "version": "2.6.0"
    },
    "colab": {
      "provenance": []
    }
  },
  "nbformat": 4,
  "nbformat_minor": 5
}