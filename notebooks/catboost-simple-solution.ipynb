{
 "cells": [
  {
   "cell_type": "code",
   "execution_count": 1,
   "metadata": {
    "execution": {
     "iopub.execute_input": "2025-01-24T07:26:11.654611Z",
     "iopub.status.busy": "2025-01-24T07:26:11.654119Z",
     "iopub.status.idle": "2025-01-24T07:26:11.669509Z",
     "shell.execute_reply": "2025-01-24T07:26:11.668652Z",
     "shell.execute_reply.started": "2025-01-24T07:26:11.654568Z"
    },
    "trusted": true
   },
   "outputs": [],
   "source": [
    "import numpy as np\n",
    "import pandas as pd \n",
    "from sklearn.model_selection import train_test_split\n",
    "from lightgbm import early_stopping,log_evaluation,LGBMClassifier\n",
    "from sklearn.pipeline import FeatureUnion\n",
    "from sklearn.compose import ColumnTransformer\n",
    "from sklearn.feature_extraction.text import TfidfVectorizer\n",
    "from sklearn.linear_model import LogisticRegression\n",
    "from tqdm import tqdm\n",
    "from sklearn.metrics import accuracy_score\n",
    "from catboost import CatBoostClassifier\n",
    "tqdm.pandas()"
   ]
  },
  {
   "cell_type": "code",
   "execution_count": 2,
   "metadata": {
    "execution": {
     "iopub.execute_input": "2025-01-24T07:26:13.803341Z",
     "iopub.status.busy": "2025-01-24T07:26:13.802897Z",
     "iopub.status.idle": "2025-01-24T07:26:15.667508Z",
     "shell.execute_reply": "2025-01-24T07:26:15.666462Z",
     "shell.execute_reply.started": "2025-01-24T07:26:13.803301Z"
    },
    "trusted": true
   },
   "outputs": [],
   "source": [
    "path=\"./\"\n",
    "train = pd.read_parquet(path+\"train.parquet\")\n",
    "test = pd.read_parquet(path+\"test.parquet\")\n",
    "sub = pd.read_csv(path+\"sample_submission.csv\")"
   ]
  },
  {
   "cell_type": "code",
   "execution_count": 3,
   "metadata": {
    "execution": {
     "iopub.execute_input": "2025-01-24T07:26:15.669477Z",
     "iopub.status.busy": "2025-01-24T07:26:15.669076Z",
     "iopub.status.idle": "2025-01-24T07:26:15.682536Z",
     "shell.execute_reply": "2025-01-24T07:26:15.681524Z",
     "shell.execute_reply.started": "2025-01-24T07:26:15.669434Z"
    },
    "trusted": true
   },
   "outputs": [
    {
     "data": {
      "text/html": [
       "<div>\n",
       "<style scoped>\n",
       "    .dataframe tbody tr th:only-of-type {\n",
       "        vertical-align: middle;\n",
       "    }\n",
       "\n",
       "    .dataframe tbody tr th {\n",
       "        vertical-align: top;\n",
       "    }\n",
       "\n",
       "    .dataframe thead th {\n",
       "        text-align: right;\n",
       "    }\n",
       "</style>\n",
       "<table border=\"1\" class=\"dataframe\">\n",
       "  <thead>\n",
       "    <tr style=\"text-align: right;\">\n",
       "      <th></th>\n",
       "      <th>id</th>\n",
       "      <th>prompt</th>\n",
       "      <th>response_a</th>\n",
       "      <th>response_b</th>\n",
       "      <th>winner</th>\n",
       "      <th>model_a</th>\n",
       "      <th>model_b</th>\n",
       "      <th>language</th>\n",
       "    </tr>\n",
       "  </thead>\n",
       "  <tbody>\n",
       "    <tr>\n",
       "      <th>0</th>\n",
       "      <td>00007cff95d7f7974642a785aca248b0f26e60d3312fac...</td>\n",
       "      <td>vieš po Slovensky?</td>\n",
       "      <td>Áno, hovorím po slovensky. Ako vám môžem pomôcť?</td>\n",
       "      <td>Áno, veď som tu! Môžem ti pomôcť s otázkami al...</td>\n",
       "      <td>model_a</td>\n",
       "      <td>o1-preview</td>\n",
       "      <td>reka-core-20240904</td>\n",
       "      <td>Slovak</td>\n",
       "    </tr>\n",
       "    <tr>\n",
       "      <th>1</th>\n",
       "      <td>00010ed04b536f56ebe43eef1100c13906abea12bf9855...</td>\n",
       "      <td>You will be given a piece of news. Analyze it ...</td>\n",
       "      <td>Let's break down the news and analyze it accor...</td>\n",
       "      <td>```json\\n{\\n  \"contains_orgs\": true,\\n  \"orgs\"...</td>\n",
       "      <td>model_a</td>\n",
       "      <td>gemma-2-27b-it</td>\n",
       "      <td>gemini-1.5-flash-002</td>\n",
       "      <td>Russian</td>\n",
       "    </tr>\n",
       "    <tr>\n",
       "      <th>2</th>\n",
       "      <td>0003800d510e38803efba5ceaec122bc66408fe367b0be...</td>\n",
       "      <td>Dört basamaklı, rakamları birbirinden ve sıfır...</td>\n",
       "      <td>Bu soruyu çözmek için, verilen koşulları adım ...</td>\n",
       "      <td>Bu problemi adım adım çözelim:\\n\\n1) ABCD - DC...</td>\n",
       "      <td>model_a</td>\n",
       "      <td>gpt-4-0125-preview</td>\n",
       "      <td>claude-3-5-sonnet-20240620</td>\n",
       "      <td>Turkish</td>\n",
       "    </tr>\n",
       "    <tr>\n",
       "      <th>3</th>\n",
       "      <td>00072026c68f5418ef2da238394e418ce72a534b9b22d5...</td>\n",
       "      <td>현재 추천된 탑 3 종목인 Cabaletta Bio (CABA), Rocket Ph...</td>\n",
       "      <td>죄송하지만 저는 금융 조언을 제공할 수 없습니다. 저는 AI 모델이며, 투자 결정에...</td>\n",
       "      <td>현재 추천된 탑 3 종목에 순위를 매기기 위해서는 여러 가지 요소들을 고려해야 합니...</td>\n",
       "      <td>model_b</td>\n",
       "      <td>gemma-2-2b-it</td>\n",
       "      <td>llama-3.1-nemotron-70b-instruct</td>\n",
       "      <td>English</td>\n",
       "    </tr>\n",
       "    <tr>\n",
       "      <th>4</th>\n",
       "      <td>0007ce7cf6bc1b5a8f8a4669b854fb12030863c970d9dc...</td>\n",
       "      <td>Please be boring</td>\n",
       "      <td>Alright, I'll be as boring as possible.\\n\\nTod...</td>\n",
       "      <td>Understood. Here is a straightforward, unadorn...</td>\n",
       "      <td>model_a</td>\n",
       "      <td>reka-flash-20240722</td>\n",
       "      <td>grok-2-2024-08-13</td>\n",
       "      <td>English</td>\n",
       "    </tr>\n",
       "  </tbody>\n",
       "</table>\n",
       "</div>"
      ],
      "text/plain": [
       "                                                  id  \\\n",
       "0  00007cff95d7f7974642a785aca248b0f26e60d3312fac...   \n",
       "1  00010ed04b536f56ebe43eef1100c13906abea12bf9855...   \n",
       "2  0003800d510e38803efba5ceaec122bc66408fe367b0be...   \n",
       "3  00072026c68f5418ef2da238394e418ce72a534b9b22d5...   \n",
       "4  0007ce7cf6bc1b5a8f8a4669b854fb12030863c970d9dc...   \n",
       "\n",
       "                                              prompt  \\\n",
       "0                                 vieš po Slovensky?   \n",
       "1  You will be given a piece of news. Analyze it ...   \n",
       "2  Dört basamaklı, rakamları birbirinden ve sıfır...   \n",
       "3  현재 추천된 탑 3 종목인 Cabaletta Bio (CABA), Rocket Ph...   \n",
       "4                                  Please be boring    \n",
       "\n",
       "                                          response_a  \\\n",
       "0   Áno, hovorím po slovensky. Ako vám môžem pomôcť?   \n",
       "1  Let's break down the news and analyze it accor...   \n",
       "2  Bu soruyu çözmek için, verilen koşulları adım ...   \n",
       "3  죄송하지만 저는 금융 조언을 제공할 수 없습니다. 저는 AI 모델이며, 투자 결정에...   \n",
       "4  Alright, I'll be as boring as possible.\\n\\nTod...   \n",
       "\n",
       "                                          response_b   winner  \\\n",
       "0  Áno, veď som tu! Môžem ti pomôcť s otázkami al...  model_a   \n",
       "1  ```json\\n{\\n  \"contains_orgs\": true,\\n  \"orgs\"...  model_a   \n",
       "2  Bu problemi adım adım çözelim:\\n\\n1) ABCD - DC...  model_a   \n",
       "3  현재 추천된 탑 3 종목에 순위를 매기기 위해서는 여러 가지 요소들을 고려해야 합니...  model_b   \n",
       "4  Understood. Here is a straightforward, unadorn...  model_a   \n",
       "\n",
       "               model_a                          model_b language  \n",
       "0           o1-preview               reka-core-20240904   Slovak  \n",
       "1       gemma-2-27b-it             gemini-1.5-flash-002  Russian  \n",
       "2   gpt-4-0125-preview       claude-3-5-sonnet-20240620  Turkish  \n",
       "3        gemma-2-2b-it  llama-3.1-nemotron-70b-instruct  English  \n",
       "4  reka-flash-20240722                grok-2-2024-08-13  English  "
      ]
     },
     "execution_count": 3,
     "metadata": {},
     "output_type": "execute_result"
    }
   ],
   "source": [
    "train.head()"
   ]
  },
  {
   "cell_type": "code",
   "execution_count": 4,
   "metadata": {
    "execution": {
     "iopub.execute_input": "2025-01-24T07:26:15.684463Z",
     "iopub.status.busy": "2025-01-24T07:26:15.684105Z",
     "iopub.status.idle": "2025-01-24T07:26:15.706847Z",
     "shell.execute_reply": "2025-01-24T07:26:15.705542Z",
     "shell.execute_reply.started": "2025-01-24T07:26:15.684426Z"
    },
    "trusted": true
   },
   "outputs": [
    {
     "data": {
      "text/html": [
       "<div>\n",
       "<style scoped>\n",
       "    .dataframe tbody tr th:only-of-type {\n",
       "        vertical-align: middle;\n",
       "    }\n",
       "\n",
       "    .dataframe tbody tr th {\n",
       "        vertical-align: top;\n",
       "    }\n",
       "\n",
       "    .dataframe thead th {\n",
       "        text-align: right;\n",
       "    }\n",
       "</style>\n",
       "<table border=\"1\" class=\"dataframe\">\n",
       "  <thead>\n",
       "    <tr style=\"text-align: right;\">\n",
       "      <th></th>\n",
       "      <th>id</th>\n",
       "      <th>prompt</th>\n",
       "      <th>response_a</th>\n",
       "      <th>response_b</th>\n",
       "      <th>scored</th>\n",
       "    </tr>\n",
       "  </thead>\n",
       "  <tbody>\n",
       "    <tr>\n",
       "      <th>0</th>\n",
       "      <td>327228</td>\n",
       "      <td>Caso Clínico: Un hombre de 70 años con anteced...</td>\n",
       "      <td>**Diagnóstico Diferencial de Anemia en Pacient...</td>\n",
       "      <td>Basándonos en el caso clínico presentado, pode...</td>\n",
       "      <td>False</td>\n",
       "    </tr>\n",
       "    <tr>\n",
       "      <th>1</th>\n",
       "      <td>1139415</td>\n",
       "      <td>Peel Company received a cash dividend from a ...</td>\n",
       "      <td>The correct answer is **(a) No   No**. Here's ...</td>\n",
       "      <td>The correct answer is **(a) No No**. Here's wh...</td>\n",
       "      <td>False</td>\n",
       "    </tr>\n",
       "    <tr>\n",
       "      <th>2</th>\n",
       "      <td>1235630</td>\n",
       "      <td>Há um grave problema com o relógio da torre da...</td>\n",
       "      <td>Dois problemas interessantes!\\n\\n**Problema 1:...</td>\n",
       "      <td>Vamos resolver os dois problemas em sequência....</td>\n",
       "      <td>False</td>\n",
       "    </tr>\n",
       "  </tbody>\n",
       "</table>\n",
       "</div>"
      ],
      "text/plain": [
       "        id                                             prompt  \\\n",
       "0   327228  Caso Clínico: Un hombre de 70 años con anteced...   \n",
       "1  1139415   Peel Company received a cash dividend from a ...   \n",
       "2  1235630  Há um grave problema com o relógio da torre da...   \n",
       "\n",
       "                                          response_a  \\\n",
       "0  **Diagnóstico Diferencial de Anemia en Pacient...   \n",
       "1  The correct answer is **(a) No   No**. Here's ...   \n",
       "2  Dois problemas interessantes!\\n\\n**Problema 1:...   \n",
       "\n",
       "                                          response_b  scored  \n",
       "0  Basándonos en el caso clínico presentado, pode...   False  \n",
       "1  The correct answer is **(a) No No**. Here's wh...   False  \n",
       "2  Vamos resolver os dois problemas em sequência....   False  "
      ]
     },
     "execution_count": 4,
     "metadata": {},
     "output_type": "execute_result"
    }
   ],
   "source": [
    "test.head()"
   ]
  },
  {
   "cell_type": "code",
   "execution_count": 5,
   "metadata": {
    "execution": {
     "iopub.execute_input": "2025-01-24T07:26:18.331150Z",
     "iopub.status.busy": "2025-01-24T07:26:18.330789Z",
     "iopub.status.idle": "2025-01-24T07:26:18.420654Z",
     "shell.execute_reply": "2025-01-24T07:26:18.419508Z",
     "shell.execute_reply.started": "2025-01-24T07:26:18.331118Z"
    },
    "trusted": true
   },
   "outputs": [],
   "source": [
    "# 10% as validation split, this percentage could be changed\n",
    "train, valid=train_test_split(train, test_size=0.1, stratify=train[\"winner\"], random_state=42)\n",
    "\n",
    "# Train set can be inverted (and winner too) to get twice the data from the available training dataset\n",
    "train_inv = train.copy()\n",
    "train_inv[\"response_a\"], train_inv[\"response_b\"] = train_inv[\"response_b\"], train_inv[\"response_a\"]\n",
    "train_inv[\"winner\"] = train_inv[\"winner\"].apply(lambda x: \"model_a\" if \"b\" in x else \"model_b\")"
   ]
  },
  {
   "cell_type": "code",
   "execution_count": 6,
   "metadata": {
    "execution": {
     "iopub.execute_input": "2025-01-24T07:26:18.484950Z",
     "iopub.status.busy": "2025-01-24T07:26:18.484517Z",
     "iopub.status.idle": "2025-01-24T07:26:18.497086Z",
     "shell.execute_reply": "2025-01-24T07:26:18.496006Z",
     "shell.execute_reply.started": "2025-01-24T07:26:18.484911Z"
    },
    "trusted": true
   },
   "outputs": [
    {
     "data": {
      "text/html": [
       "<div>\n",
       "<style scoped>\n",
       "    .dataframe tbody tr th:only-of-type {\n",
       "        vertical-align: middle;\n",
       "    }\n",
       "\n",
       "    .dataframe tbody tr th {\n",
       "        vertical-align: top;\n",
       "    }\n",
       "\n",
       "    .dataframe thead th {\n",
       "        text-align: right;\n",
       "    }\n",
       "</style>\n",
       "<table border=\"1\" class=\"dataframe\">\n",
       "  <thead>\n",
       "    <tr style=\"text-align: right;\">\n",
       "      <th></th>\n",
       "      <th>id</th>\n",
       "      <th>prompt</th>\n",
       "      <th>response_a</th>\n",
       "      <th>response_b</th>\n",
       "      <th>winner</th>\n",
       "      <th>model_a</th>\n",
       "      <th>model_b</th>\n",
       "      <th>language</th>\n",
       "    </tr>\n",
       "  </thead>\n",
       "  <tbody>\n",
       "    <tr>\n",
       "      <th>28076</th>\n",
       "      <td>940d1c4f9e10cf3acb0f4017ebf3e1e9a23efc886085f1...</td>\n",
       "      <td>Интересное про дом. Дюрер купил его в 1509 год...</td>\n",
       "      <td>Вопрос о переводе исторических цен в современн...</td>\n",
       "      <td>Перевести старинные денежные единицы в совреме...</td>\n",
       "      <td>model_b</td>\n",
       "      <td>qwen-max-0919</td>\n",
       "      <td>gemini-1.5-pro-002</td>\n",
       "      <td>Russian</td>\n",
       "    </tr>\n",
       "  </tbody>\n",
       "</table>\n",
       "</div>"
      ],
      "text/plain": [
       "                                                      id  \\\n",
       "28076  940d1c4f9e10cf3acb0f4017ebf3e1e9a23efc886085f1...   \n",
       "\n",
       "                                                  prompt  \\\n",
       "28076  Интересное про дом. Дюрер купил его в 1509 год...   \n",
       "\n",
       "                                              response_a  \\\n",
       "28076  Вопрос о переводе исторических цен в современн...   \n",
       "\n",
       "                                              response_b   winner  \\\n",
       "28076  Перевести старинные денежные единицы в совреме...  model_b   \n",
       "\n",
       "             model_a             model_b language  \n",
       "28076  qwen-max-0919  gemini-1.5-pro-002  Russian  "
      ]
     },
     "execution_count": 6,
     "metadata": {},
     "output_type": "execute_result"
    }
   ],
   "source": [
    "train_inv.head(1)"
   ]
  },
  {
   "cell_type": "code",
   "execution_count": 7,
   "metadata": {
    "execution": {
     "iopub.execute_input": "2025-01-24T07:26:18.642726Z",
     "iopub.status.busy": "2025-01-24T07:26:18.642309Z",
     "iopub.status.idle": "2025-01-24T07:26:18.655807Z",
     "shell.execute_reply": "2025-01-24T07:26:18.654838Z",
     "shell.execute_reply.started": "2025-01-24T07:26:18.642694Z"
    },
    "trusted": true
   },
   "outputs": [
    {
     "data": {
      "text/html": [
       "<div>\n",
       "<style scoped>\n",
       "    .dataframe tbody tr th:only-of-type {\n",
       "        vertical-align: middle;\n",
       "    }\n",
       "\n",
       "    .dataframe tbody tr th {\n",
       "        vertical-align: top;\n",
       "    }\n",
       "\n",
       "    .dataframe thead th {\n",
       "        text-align: right;\n",
       "    }\n",
       "</style>\n",
       "<table border=\"1\" class=\"dataframe\">\n",
       "  <thead>\n",
       "    <tr style=\"text-align: right;\">\n",
       "      <th></th>\n",
       "      <th>id</th>\n",
       "      <th>prompt</th>\n",
       "      <th>response_a</th>\n",
       "      <th>response_b</th>\n",
       "      <th>winner</th>\n",
       "      <th>model_a</th>\n",
       "      <th>model_b</th>\n",
       "      <th>language</th>\n",
       "    </tr>\n",
       "  </thead>\n",
       "  <tbody>\n",
       "    <tr>\n",
       "      <th>28076</th>\n",
       "      <td>940d1c4f9e10cf3acb0f4017ebf3e1e9a23efc886085f1...</td>\n",
       "      <td>Интересное про дом. Дюрер купил его в 1509 год...</td>\n",
       "      <td>Перевести старинные денежные единицы в совреме...</td>\n",
       "      <td>Вопрос о переводе исторических цен в современн...</td>\n",
       "      <td>model_a</td>\n",
       "      <td>qwen-max-0919</td>\n",
       "      <td>gemini-1.5-pro-002</td>\n",
       "      <td>Russian</td>\n",
       "    </tr>\n",
       "  </tbody>\n",
       "</table>\n",
       "</div>"
      ],
      "text/plain": [
       "                                                      id  \\\n",
       "28076  940d1c4f9e10cf3acb0f4017ebf3e1e9a23efc886085f1...   \n",
       "\n",
       "                                                  prompt  \\\n",
       "28076  Интересное про дом. Дюрер купил его в 1509 год...   \n",
       "\n",
       "                                              response_a  \\\n",
       "28076  Перевести старинные денежные единицы в совреме...   \n",
       "\n",
       "                                              response_b   winner  \\\n",
       "28076  Вопрос о переводе исторических цен в современн...  model_a   \n",
       "\n",
       "             model_a             model_b language  \n",
       "28076  qwen-max-0919  gemini-1.5-pro-002  Russian  "
      ]
     },
     "execution_count": 7,
     "metadata": {},
     "output_type": "execute_result"
    }
   ],
   "source": [
    "train.head(1)"
   ]
  },
  {
   "cell_type": "code",
   "execution_count": null,
   "metadata": {
    "trusted": true
   },
   "outputs": [],
   "source": []
  },
  {
   "cell_type": "code",
   "execution_count": 8,
   "metadata": {
    "execution": {
     "iopub.execute_input": "2025-01-24T07:26:21.215944Z",
     "iopub.status.busy": "2025-01-24T07:26:21.215628Z",
     "iopub.status.idle": "2025-01-24T07:28:41.912332Z",
     "shell.execute_reply": "2025-01-24T07:28:41.911324Z",
     "shell.execute_reply.started": "2025-01-24T07:26:21.215919Z"
    },
    "trusted": true
   },
   "outputs": [
    {
     "name": "stderr",
     "output_type": "stream",
     "text": [
      "100%|██████████| 3/3 [00:20<00:00,  6.68s/it]\n",
      "100%|██████████| 3/3 [00:19<00:00,  6.61s/it]\n",
      "100%|██████████| 3/3 [00:02<00:00,  1.33it/s]\n",
      "100%|██████████| 3/3 [00:00<00:00, 240.31it/s]\n"
     ]
    }
   ],
   "source": [
    "# Here I compute some features\n",
    "def compute_feats(df):\n",
    "    for col in tqdm([\"response_a\",\"response_b\",\"prompt\"]):\n",
    "        # response lenght is a key factor when choosing between two responses\n",
    "        df[f\"{col}_len\"]=df[f\"{col}\"].str.len()\n",
    "\n",
    "        # Some characters counting features \n",
    "        df[f\"{col}_spaces\"]=df[f\"{col}\"].str.count(\"\\s\")\n",
    "        df[f\"{col}_punct\"]=df[f\"{col}\"].str.count(\",|\\.|!\")\n",
    "        df[f\"{col}_question_mark\"]=df[f\"{col}\"].str.count(\"\\?\")\n",
    "        df[f\"{col}_quot\"]=df[f\"{col}\"].str.count(\"'|\\\"\")\n",
    "        df[f\"{col}_formatting_chars\"]=df[f\"{col}\"].str.count(\"\\*|\\_\")\n",
    "        df[f\"{col}_math_chars\"]=df[f\"{col}\"].str.count(\"\\-|\\+|\\=\")\n",
    "        df[f\"{col}_curly_open\"]=df[f\"{col}\"].str.count(\"\\{\")\n",
    "        df[f\"{col}_curly_close\"]=df[f\"{col}\"].str.count(\"}\")\n",
    "        df[f\"{col}_round_open\"]=df[f\"{col}\"].str.count(\"\\(\")\n",
    "        df[f\"{col}_round_close\"]=df[f\"{col}\"].str.count(\"\\)\")\n",
    "        df[f\"{col}_accent_chars\"]=df[f\"{col}\"].str.count(\"è|ò|à|ù|é|ì\")\n",
    "        df[f\"{col}_special_chars\"]=df[f\"{col}\"].str.count(\"\\W\")\n",
    "        df[f\"{col}_digits\"]=df[f\"{col}\"].str.count(\"\\d\")/df[f\"{col}_len\"]\n",
    "        df[f\"{col}_lower\"]=df[f\"{col}\"].str.count(\"[a-z]\").astype(\"float32\")/df[f\"{col}_len\"]\n",
    "        df[f\"{col}_upper\"]=df[f\"{col}\"].str.count(\"[A-Z]\").astype(\"float32\")/df[f\"{col}_len\"]\n",
    "        df[f\"{col}_chinese\"]=df[f\"{col}\"].str.count(r'[\\u4e00-\\u9fff]+').astype(\"float32\")/df[f\"{col}_len\"]\n",
    "        df[f\"{col}_tild\"]=df[f\"{col}\"].str.count(\"~\")>0\n",
    "\n",
    "        # Feature that show how balanced are curly and round brackets\n",
    "        df[f\"{col}_round_balance\"]=df[f\"{col}_round_open\"]-df[f\"{col}_round_close\"]\n",
    "        df[f\"{col}_curly_balance\"]=df[f\"{col}_curly_open\"]-df[f\"{col}_curly_close\"]\n",
    "\n",
    "        # Feature that tells if the string json is present somewhere (e.g. asking a json response or similar)\n",
    "        df[f\"{col}_json\"]=df[f\"{col}\"].str.lower().str.count(\"json\")\n",
    "        df[f\"{col}_yaml\"]=df[f\"{col}\"].str.lower().str.count(\"yaml\")\n",
    "\n",
    "    return df\n",
    "train=compute_feats(train)\n",
    "train_inv=compute_feats(train_inv)\n",
    "\n",
    "train=pd.concat([train,train_inv])\n",
    "valid=compute_feats(valid)\n",
    "test=compute_feats(test)"
   ]
  },
  {
   "cell_type": "code",
   "execution_count": 9,
   "metadata": {
    "execution": {
     "iopub.execute_input": "2025-01-24T07:28:41.914002Z",
     "iopub.status.busy": "2025-01-24T07:28:41.913649Z",
     "iopub.status.idle": "2025-01-24T07:28:41.940705Z",
     "shell.execute_reply": "2025-01-24T07:28:41.939390Z",
     "shell.execute_reply.started": "2025-01-24T07:28:41.913964Z"
    },
    "trusted": true
   },
   "outputs": [
    {
     "data": {
      "text/html": [
       "<div>\n",
       "<style scoped>\n",
       "    .dataframe tbody tr th:only-of-type {\n",
       "        vertical-align: middle;\n",
       "    }\n",
       "\n",
       "    .dataframe tbody tr th {\n",
       "        vertical-align: top;\n",
       "    }\n",
       "\n",
       "    .dataframe thead th {\n",
       "        text-align: right;\n",
       "    }\n",
       "</style>\n",
       "<table border=\"1\" class=\"dataframe\">\n",
       "  <thead>\n",
       "    <tr style=\"text-align: right;\">\n",
       "      <th></th>\n",
       "      <th>id</th>\n",
       "      <th>prompt</th>\n",
       "      <th>response_a</th>\n",
       "      <th>response_b</th>\n",
       "      <th>winner</th>\n",
       "      <th>model_a</th>\n",
       "      <th>model_b</th>\n",
       "      <th>language</th>\n",
       "      <th>response_a_len</th>\n",
       "      <th>response_a_spaces</th>\n",
       "      <th>...</th>\n",
       "      <th>prompt_special_chars</th>\n",
       "      <th>prompt_digits</th>\n",
       "      <th>prompt_lower</th>\n",
       "      <th>prompt_upper</th>\n",
       "      <th>prompt_chinese</th>\n",
       "      <th>prompt_tild</th>\n",
       "      <th>prompt_round_balance</th>\n",
       "      <th>prompt_curly_balance</th>\n",
       "      <th>prompt_json</th>\n",
       "      <th>prompt_yaml</th>\n",
       "    </tr>\n",
       "  </thead>\n",
       "  <tbody>\n",
       "    <tr>\n",
       "      <th>28076</th>\n",
       "      <td>940d1c4f9e10cf3acb0f4017ebf3e1e9a23efc886085f1...</td>\n",
       "      <td>Интересное про дом. Дюрер купил его в 1509 год...</td>\n",
       "      <td>Перевести старинные денежные единицы в совреме...</td>\n",
       "      <td>Вопрос о переводе исторических цен в современн...</td>\n",
       "      <td>model_a</td>\n",
       "      <td>qwen-max-0919</td>\n",
       "      <td>gemini-1.5-pro-002</td>\n",
       "      <td>Russian</td>\n",
       "      <td>1699</td>\n",
       "      <td>257</td>\n",
       "      <td>...</td>\n",
       "      <td>30</td>\n",
       "      <td>0.098039</td>\n",
       "      <td>0.000000</td>\n",
       "      <td>0.000000</td>\n",
       "      <td>0.000000</td>\n",
       "      <td>False</td>\n",
       "      <td>0</td>\n",
       "      <td>0</td>\n",
       "      <td>0</td>\n",
       "      <td>0</td>\n",
       "    </tr>\n",
       "    <tr>\n",
       "      <th>20104</th>\n",
       "      <td>69d8fcef20fd0a51dcafccb0dd0ed08e1a07671d9298ab...</td>\n",
       "      <td>here are two groups of numbers. the number in ...</td>\n",
       "      <td>Let's analyze the given number groups to find ...</td>\n",
       "      <td>To find the relationship between the numbers, ...</td>\n",
       "      <td>model_a</td>\n",
       "      <td>gemini-1.5-flash-002</td>\n",
       "      <td>llama-3.1-405b-instruct-bf16</td>\n",
       "      <td>English</td>\n",
       "      <td>1608</td>\n",
       "      <td>362</td>\n",
       "      <td>...</td>\n",
       "      <td>54</td>\n",
       "      <td>0.049550</td>\n",
       "      <td>0.689189</td>\n",
       "      <td>0.018018</td>\n",
       "      <td>0.000000</td>\n",
       "      <td>False</td>\n",
       "      <td>0</td>\n",
       "      <td>0</td>\n",
       "      <td>0</td>\n",
       "      <td>0</td>\n",
       "    </tr>\n",
       "    <tr>\n",
       "      <th>9548</th>\n",
       "      <td>328ccffd540eb9d7774ca2a2e0c09dd3cdbf1a81d97030...</td>\n",
       "      <td>帮我写一篇文章：标题住房“财产化”是不想生、不敢生原因\\n\\n背景：中国人口与发展研究中心消...</td>\n",
       "      <td>### 住房“财产化”是不想生、不敢生的原因\\n\\n#### 引言\\n\\n随着中国人口与家庭...</td>\n",
       "      <td>### 住房“财产化”是不想生、不敢生的原因\\n\\n#### 引言\\n\\n中国人口与发展研究...</td>\n",
       "      <td>model_b</td>\n",
       "      <td>yi-lightning</td>\n",
       "      <td>mistral-large-2407</td>\n",
       "      <td>Chinese</td>\n",
       "      <td>1401</td>\n",
       "      <td>45</td>\n",
       "      <td>...</td>\n",
       "      <td>850</td>\n",
       "      <td>0.023235</td>\n",
       "      <td>0.004647</td>\n",
       "      <td>0.001949</td>\n",
       "      <td>0.097137</td>\n",
       "      <td>False</td>\n",
       "      <td>0</td>\n",
       "      <td>0</td>\n",
       "      <td>0</td>\n",
       "      <td>0</td>\n",
       "    </tr>\n",
       "    <tr>\n",
       "      <th>16922</th>\n",
       "      <td>598f765b7fa5f4f6c67e2fa63230fe89c487ac2cca6f2c...</td>\n",
       "      <td>Merhaba, adım Zeki Sagay. Ben 27.06.1957 yılın...</td>\n",
       "      <td>Merhaba Zeki Bey,\\n\\nGüneş burcunuz, doğum tar...</td>\n",
       "      <td>İstanbul'da doğan, 27.06.1957 günü sabah 08:30...</td>\n",
       "      <td>model_a</td>\n",
       "      <td>llama-3.1-405b-instruct-bf16</td>\n",
       "      <td>llama-3.2-1b-instruct</td>\n",
       "      <td>Turkish</td>\n",
       "      <td>1098</td>\n",
       "      <td>145</td>\n",
       "      <td>...</td>\n",
       "      <td>27</td>\n",
       "      <td>0.090226</td>\n",
       "      <td>0.609023</td>\n",
       "      <td>0.037594</td>\n",
       "      <td>0.000000</td>\n",
       "      <td>False</td>\n",
       "      <td>0</td>\n",
       "      <td>0</td>\n",
       "      <td>0</td>\n",
       "      <td>0</td>\n",
       "    </tr>\n",
       "    <tr>\n",
       "      <th>26214</th>\n",
       "      <td>8a24c32456b3b1338647389dfac6573a43d1ed2cf97ad1...</td>\n",
       "      <td>Uyku sorunumu nasıl çözebilirim kısaca</td>\n",
       "      <td>Uyku sorununu çözmek için birkaç basit adım iz...</td>\n",
       "      <td>Uyku sorunlarını çözmek için birkaç temel adım...</td>\n",
       "      <td>model_a</td>\n",
       "      <td>mistral-large-2407</td>\n",
       "      <td>qwen-max-0919</td>\n",
       "      <td>Turkish</td>\n",
       "      <td>724</td>\n",
       "      <td>98</td>\n",
       "      <td>...</td>\n",
       "      <td>4</td>\n",
       "      <td>0.000000</td>\n",
       "      <td>0.763158</td>\n",
       "      <td>0.026316</td>\n",
       "      <td>0.000000</td>\n",
       "      <td>False</td>\n",
       "      <td>0</td>\n",
       "      <td>0</td>\n",
       "      <td>0</td>\n",
       "      <td>0</td>\n",
       "    </tr>\n",
       "  </tbody>\n",
       "</table>\n",
       "<p>5 rows × 74 columns</p>\n",
       "</div>"
      ],
      "text/plain": [
       "                                                      id  \\\n",
       "28076  940d1c4f9e10cf3acb0f4017ebf3e1e9a23efc886085f1...   \n",
       "20104  69d8fcef20fd0a51dcafccb0dd0ed08e1a07671d9298ab...   \n",
       "9548   328ccffd540eb9d7774ca2a2e0c09dd3cdbf1a81d97030...   \n",
       "16922  598f765b7fa5f4f6c67e2fa63230fe89c487ac2cca6f2c...   \n",
       "26214  8a24c32456b3b1338647389dfac6573a43d1ed2cf97ad1...   \n",
       "\n",
       "                                                  prompt  \\\n",
       "28076  Интересное про дом. Дюрер купил его в 1509 год...   \n",
       "20104  here are two groups of numbers. the number in ...   \n",
       "9548   帮我写一篇文章：标题住房“财产化”是不想生、不敢生原因\\n\\n背景：中国人口与发展研究中心消...   \n",
       "16922  Merhaba, adım Zeki Sagay. Ben 27.06.1957 yılın...   \n",
       "26214             Uyku sorunumu nasıl çözebilirim kısaca   \n",
       "\n",
       "                                              response_a  \\\n",
       "28076  Перевести старинные денежные единицы в совреме...   \n",
       "20104  Let's analyze the given number groups to find ...   \n",
       "9548   ### 住房“财产化”是不想生、不敢生的原因\\n\\n#### 引言\\n\\n随着中国人口与家庭...   \n",
       "16922  Merhaba Zeki Bey,\\n\\nGüneş burcunuz, doğum tar...   \n",
       "26214  Uyku sorununu çözmek için birkaç basit adım iz...   \n",
       "\n",
       "                                              response_b   winner  \\\n",
       "28076  Вопрос о переводе исторических цен в современн...  model_a   \n",
       "20104  To find the relationship between the numbers, ...  model_a   \n",
       "9548   ### 住房“财产化”是不想生、不敢生的原因\\n\\n#### 引言\\n\\n中国人口与发展研究...  model_b   \n",
       "16922  İstanbul'da doğan, 27.06.1957 günü sabah 08:30...  model_a   \n",
       "26214  Uyku sorunlarını çözmek için birkaç temel adım...  model_a   \n",
       "\n",
       "                            model_a                       model_b language  \\\n",
       "28076                 qwen-max-0919            gemini-1.5-pro-002  Russian   \n",
       "20104          gemini-1.5-flash-002  llama-3.1-405b-instruct-bf16  English   \n",
       "9548                   yi-lightning            mistral-large-2407  Chinese   \n",
       "16922  llama-3.1-405b-instruct-bf16         llama-3.2-1b-instruct  Turkish   \n",
       "26214            mistral-large-2407                 qwen-max-0919  Turkish   \n",
       "\n",
       "       response_a_len  response_a_spaces  ...  prompt_special_chars  \\\n",
       "28076            1699                257  ...                    30   \n",
       "20104            1608                362  ...                    54   \n",
       "9548             1401                 45  ...                   850   \n",
       "16922            1098                145  ...                    27   \n",
       "26214             724                 98  ...                     4   \n",
       "\n",
       "       prompt_digits  prompt_lower  prompt_upper  prompt_chinese  prompt_tild  \\\n",
       "28076       0.098039      0.000000      0.000000        0.000000        False   \n",
       "20104       0.049550      0.689189      0.018018        0.000000        False   \n",
       "9548        0.023235      0.004647      0.001949        0.097137        False   \n",
       "16922       0.090226      0.609023      0.037594        0.000000        False   \n",
       "26214       0.000000      0.763158      0.026316        0.000000        False   \n",
       "\n",
       "       prompt_round_balance  prompt_curly_balance  prompt_json  prompt_yaml  \n",
       "28076                     0                     0            0            0  \n",
       "20104                     0                     0            0            0  \n",
       "9548                      0                     0            0            0  \n",
       "16922                     0                     0            0            0  \n",
       "26214                     0                     0            0            0  \n",
       "\n",
       "[5 rows x 74 columns]"
      ]
     },
     "execution_count": 9,
     "metadata": {},
     "output_type": "execute_result"
    }
   ],
   "source": [
    "train.head()"
   ]
  },
  {
   "cell_type": "code",
   "execution_count": 10,
   "metadata": {
    "execution": {
     "iopub.execute_input": "2025-01-24T07:28:41.943444Z",
     "iopub.status.busy": "2025-01-24T07:28:41.943022Z",
     "iopub.status.idle": "2025-01-24T07:35:09.987117Z",
     "shell.execute_reply": "2025-01-24T07:35:09.986072Z",
     "shell.execute_reply.started": "2025-01-24T07:28:41.943399Z"
    },
    "trusted": true
   },
   "outputs": [],
   "source": [
    "vectorizer_char = TfidfVectorizer(sublinear_tf=True, analyzer='char', ngram_range=(1,2), max_features=100_000)\n",
    "vectorizer_word = TfidfVectorizer(sublinear_tf=True, analyzer='word', min_df=3)\n",
    "preprocessor = ColumnTransformer(\n",
    "    transformers=[\n",
    "        ('prompt_feats', FeatureUnion([\n",
    "            ('prompt_char', vectorizer_char),\n",
    "            ('prompt_word', vectorizer_word)\n",
    "        ]), 'prompt'),\n",
    "        ('response_a_feats', FeatureUnion([\n",
    "            ('response_a_char', vectorizer_char),\n",
    "            ('response_a_word', vectorizer_word)\n",
    "        ]), 'response_a'),\n",
    "        ('response_b_feats', FeatureUnion([\n",
    "            ('response_b_char', vectorizer_char),\n",
    "            ('response_b_word', vectorizer_word)\n",
    "        ]), 'response_b')\n",
    "    ]\n",
    ")\n",
    "train_feats = preprocessor.fit_transform(train[[\"response_a\",\"response_b\",\"prompt\"]])\n",
    "test_feats = preprocessor.transform(test[[\"response_a\",\"response_b\",\"prompt\"]])\n",
    "valid_feats = preprocessor.transform(valid[[\"response_a\",\"response_b\",\"prompt\"]])"
   ]
  },
  {
   "cell_type": "code",
   "execution_count": 13,
   "metadata": {
    "execution": {
     "iopub.execute_input": "2025-01-24T07:35:09.989048Z",
     "iopub.status.busy": "2025-01-24T07:35:09.988690Z",
     "iopub.status.idle": "2025-01-24T07:35:09.995796Z",
     "shell.execute_reply": "2025-01-24T07:35:09.994567Z",
     "shell.execute_reply.started": "2025-01-24T07:35:09.989015Z"
    },
    "trusted": true
   },
   "outputs": [
    {
     "data": {
      "text/plain": [
       "(<Compressed Sparse Row sparse matrix of dtype 'float64'\n",
       " \twith 110519876 stored elements and shape (87190, 859841)>,\n",
       " <Compressed Sparse Row sparse matrix of dtype 'float64'\n",
       " \twith 6082567 stored elements and shape (4844, 859841)>,\n",
       " <Compressed Sparse Row sparse matrix of dtype 'float64'\n",
       " \twith 3283 stored elements and shape (3, 859841)>)"
      ]
     },
     "execution_count": 13,
     "metadata": {},
     "output_type": "execute_result"
    }
   ],
   "source": [
    "train_feats, valid_feats, test_feats"
   ]
  },
  {
   "cell_type": "code",
   "execution_count": 14,
   "metadata": {
    "execution": {
     "iopub.execute_input": "2025-01-24T07:38:37.060852Z",
     "iopub.status.busy": "2025-01-24T07:38:37.060501Z",
     "iopub.status.idle": "2025-01-24T07:43:27.698079Z",
     "shell.execute_reply": "2025-01-24T07:43:27.697114Z",
     "shell.execute_reply.started": "2025-01-24T07:38:37.060823Z"
    },
    "trusted": true
   },
   "outputs": [
    {
     "ename": "",
     "evalue": "",
     "output_type": "error",
     "traceback": [
      "\u001b[1;31mThe Kernel crashed while executing code in the current cell or a previous cell. \n",
      "\u001b[1;31mPlease review the code in the cell(s) to identify a possible cause of the failure. \n",
      "\u001b[1;31mClick <a href='https://aka.ms/vscodeJupyterKernelCrash'>here</a> for more info. \n",
      "\u001b[1;31mView Jupyter <a href='command:jupyter.viewOutput'>log</a> for further details."
     ]
    }
   ],
   "source": [
    "model = CatBoostClassifier(random_state=42, eval_metric=\"Accuracy\", task_type='GPU', early_stopping_rounds=50)\n",
    "model.fit(train_feats, train.winner, eval_set=(valid_feats, valid.winner))"
   ]
  },
  {
   "cell_type": "code",
   "execution_count": 32,
   "metadata": {
    "execution": {
     "iopub.execute_input": "2025-01-24T07:46:21.210335Z",
     "iopub.status.busy": "2025-01-24T07:46:21.209613Z",
     "iopub.status.idle": "2025-01-24T07:46:21.220262Z",
     "shell.execute_reply": "2025-01-24T07:46:21.218879Z",
     "shell.execute_reply.started": "2025-01-24T07:46:21.210296Z"
    },
    "trusted": true
   },
   "outputs": [
    {
     "data": {
      "text/plain": [
       "array([[0.4611418 , 0.5388582 ],\n",
       "       [0.53491638, 0.46508362],\n",
       "       [0.54462179, 0.45537821]])"
      ]
     },
     "execution_count": 32,
     "metadata": {},
     "output_type": "execute_result"
    }
   ],
   "source": [
    "model.predict_proba(test_feats)"
   ]
  },
  {
   "cell_type": "code",
   "execution_count": 33,
   "metadata": {
    "execution": {
     "iopub.execute_input": "2025-01-24T07:46:23.639842Z",
     "iopub.status.busy": "2025-01-24T07:46:23.639493Z",
     "iopub.status.idle": "2025-01-24T07:46:23.673304Z",
     "shell.execute_reply": "2025-01-24T07:46:23.672475Z",
     "shell.execute_reply.started": "2025-01-24T07:46:23.639814Z"
    },
    "trusted": true
   },
   "outputs": [],
   "source": [
    "y_pred_val = model.predict(valid_feats)"
   ]
  },
  {
   "cell_type": "code",
   "execution_count": 34,
   "metadata": {
    "execution": {
     "iopub.execute_input": "2025-01-24T07:46:29.165953Z",
     "iopub.status.busy": "2025-01-24T07:46:29.165599Z",
     "iopub.status.idle": "2025-01-24T07:46:29.172290Z",
     "shell.execute_reply": "2025-01-24T07:46:29.171081Z",
     "shell.execute_reply.started": "2025-01-24T07:46:29.165922Z"
    },
    "trusted": true
   },
   "outputs": [
    {
     "data": {
      "text/plain": [
       "array(['model_a', 'model_b', 'model_a', ..., 'model_b', 'model_a',\n",
       "       'model_a'], dtype=object)"
      ]
     },
     "execution_count": 34,
     "metadata": {},
     "output_type": "execute_result"
    }
   ],
   "source": [
    "y_pred_val"
   ]
  },
  {
   "cell_type": "code",
   "execution_count": 35,
   "metadata": {
    "execution": {
     "iopub.execute_input": "2025-01-24T07:46:30.029782Z",
     "iopub.status.busy": "2025-01-24T07:46:30.029402Z",
     "iopub.status.idle": "2025-01-24T07:46:30.034115Z",
     "shell.execute_reply": "2025-01-24T07:46:30.033069Z",
     "shell.execute_reply.started": "2025-01-24T07:46:30.029750Z"
    },
    "trusted": true
   },
   "outputs": [],
   "source": [
    "from sklearn.metrics import classification_report"
   ]
  },
  {
   "cell_type": "code",
   "execution_count": 36,
   "metadata": {
    "execution": {
     "iopub.execute_input": "2025-01-24T07:46:30.210025Z",
     "iopub.status.busy": "2025-01-24T07:46:30.209658Z",
     "iopub.status.idle": "2025-01-24T07:46:30.391646Z",
     "shell.execute_reply": "2025-01-24T07:46:30.390582Z",
     "shell.execute_reply.started": "2025-01-24T07:46:30.209993Z"
    },
    "trusted": true
   },
   "outputs": [
    {
     "name": "stdout",
     "output_type": "stream",
     "text": [
      "              precision    recall  f1-score   support\n",
      "\n",
      "     model_a   0.611861  0.624374  0.618054      2396\n",
      "     model_b   0.624844  0.612337  0.618527      2448\n",
      "\n",
      "    accuracy                       0.618291      4844\n",
      "   macro avg   0.618352  0.618355  0.618291      4844\n",
      "weighted avg   0.618422  0.618291  0.618293      4844\n",
      "\n"
     ]
    }
   ],
   "source": [
    "print(classification_report(valid.winner, y_pred_val, digits=6))"
   ]
  },
  {
   "cell_type": "code",
   "execution_count": null,
   "metadata": {
    "execution": {
     "iopub.execute_input": "2025-01-23T13:04:33.115855Z",
     "iopub.status.busy": "2025-01-23T13:04:33.115393Z",
     "iopub.status.idle": "2025-01-23T13:04:33.121618Z",
     "shell.execute_reply": "2025-01-23T13:04:33.120297Z",
     "shell.execute_reply.started": "2025-01-23T13:04:33.115815Z"
    },
    "trusted": true
   },
   "outputs": [],
   "source": [
    "test['winner'] = model.predict(test_feats)"
   ]
  },
  {
   "cell_type": "code",
   "execution_count": null,
   "metadata": {
    "execution": {
     "iopub.execute_input": "2025-01-23T13:04:34.433874Z",
     "iopub.status.busy": "2025-01-23T13:04:34.433454Z",
     "iopub.status.idle": "2025-01-23T13:04:34.439156Z",
     "shell.execute_reply": "2025-01-23T13:04:34.437876Z",
     "shell.execute_reply.started": "2025-01-23T13:04:34.433840Z"
    },
    "trusted": true
   },
   "outputs": [],
   "source": [
    "test[\"id\"] = test[\"id\"]"
   ]
  },
  {
   "cell_type": "code",
   "execution_count": null,
   "metadata": {
    "execution": {
     "iopub.execute_input": "2025-01-23T13:04:50.167832Z",
     "iopub.status.busy": "2025-01-23T13:04:50.167366Z",
     "iopub.status.idle": "2025-01-23T13:04:50.174143Z",
     "shell.execute_reply": "2025-01-23T13:04:50.172967Z",
     "shell.execute_reply.started": "2025-01-23T13:04:50.167796Z"
    },
    "trusted": true
   },
   "outputs": [],
   "source": [
    "test[\"winner\"]=test[\"winner\"].apply(lambda x: \"model_a\" if x==1 else \"model_b\")\n",
    "\n",
    "sub = test[[\"id\",\"winner\"]]"
   ]
  },
  {
   "cell_type": "code",
   "execution_count": null,
   "metadata": {
    "execution": {
     "iopub.execute_input": "2025-01-23T13:04:51.677193Z",
     "iopub.status.busy": "2025-01-23T13:04:51.676847Z",
     "iopub.status.idle": "2025-01-23T13:04:51.686194Z",
     "shell.execute_reply": "2025-01-23T13:04:51.685096Z",
     "shell.execute_reply.started": "2025-01-23T13:04:51.677167Z"
    },
    "trusted": true
   },
   "outputs": [],
   "source": [
    "sub.head()"
   ]
  },
  {
   "cell_type": "code",
   "execution_count": null,
   "metadata": {
    "execution": {
     "iopub.execute_input": "2025-01-23T13:04:56.405805Z",
     "iopub.status.busy": "2025-01-23T13:04:56.405412Z",
     "iopub.status.idle": "2025-01-23T13:04:56.413019Z",
     "shell.execute_reply": "2025-01-23T13:04:56.412037Z",
     "shell.execute_reply.started": "2025-01-23T13:04:56.405760Z"
    },
    "trusted": true
   },
   "outputs": [],
   "source": [
    "sub.to_csv(\"submission.csv\",index=False)"
   ]
  },
  {
   "cell_type": "code",
   "execution_count": null,
   "metadata": {
    "trusted": true
   },
   "outputs": [],
   "source": []
  }
 ],
 "metadata": {
  "kaggle": {
   "accelerator": "none",
   "dataSources": [
    {
     "databundleVersionId": 10131489,
     "sourceId": 86946,
     "sourceType": "competition"
    }
   ],
   "dockerImageVersionId": 30823,
   "isGpuEnabled": false,
   "isInternetEnabled": false,
   "language": "python",
   "sourceType": "notebook"
  },
  "kernelspec": {
   "display_name": ".venv",
   "language": "python",
   "name": "python3"
  },
  "language_info": {
   "codemirror_mode": {
    "name": "ipython",
    "version": 3
   },
   "file_extension": ".py",
   "mimetype": "text/x-python",
   "name": "python",
   "nbconvert_exporter": "python",
   "pygments_lexer": "ipython3",
   "version": "3.10.12"
  }
 },
 "nbformat": 4,
 "nbformat_minor": 4
}
