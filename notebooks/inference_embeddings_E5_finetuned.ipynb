{
 "cells": [
  {
   "cell_type": "code",
   "execution_count": 22,
   "metadata": {
    "execution": {
     "iopub.execute_input": "2025-01-24T07:26:11.654611Z",
     "iopub.status.busy": "2025-01-24T07:26:11.654119Z",
     "iopub.status.idle": "2025-01-24T07:26:11.669509Z",
     "shell.execute_reply": "2025-01-24T07:26:11.668652Z",
     "shell.execute_reply.started": "2025-01-24T07:26:11.654568Z"
    },
    "trusted": true
   },
   "outputs": [],
   "source": [
    "import numpy as np\n",
    "import pandas as pd \n",
    "\n",
    "from sklearn.model_selection import train_test_split\n",
    "from sklearn.pipeline import FeatureUnion\n",
    "from sklearn.compose import ColumnTransformer\n",
    "from sklearn.feature_extraction.text import TfidfVectorizer\n",
    "from sklearn.linear_model import LogisticRegression\n",
    "from sklearn.metrics import accuracy_score\n",
    "\n",
    "from catboost import CatBoostClassifier\n",
    "from lightgbm import early_stopping,log_evaluation, LGBMClassifier\n",
    "\n",
    "from transformers import pipeline, AutoTokenizer, AutoModelForMaskedLM, AutoModel\n",
    "from sentence_transformers import SentenceTransformer\n",
    "import torch\n",
    "from torch import nn\n",
    "from torch.utils.data import Dataset, DataLoader\n",
    "\n",
    "import matplotlib.pyplot as plt\n",
    "\n",
    "from tqdm import tqdm\n",
    "tqdm.pandas()"
   ]
  },
  {
   "cell_type": "code",
   "execution_count": 3,
   "metadata": {
    "execution": {
     "iopub.execute_input": "2025-01-24T07:26:13.803341Z",
     "iopub.status.busy": "2025-01-24T07:26:13.802897Z",
     "iopub.status.idle": "2025-01-24T07:26:15.667508Z",
     "shell.execute_reply": "2025-01-24T07:26:15.666462Z",
     "shell.execute_reply.started": "2025-01-24T07:26:13.803301Z"
    },
    "trusted": true
   },
   "outputs": [],
   "source": [
    "path=\"../data/\"\n",
    "train = pd.read_parquet(path+\"train.parquet\")\n",
    "\n",
    "train, test = train_test_split(train, test_size=0.2, random_state=1)\n",
    "eval, test = train_test_split(test, test_size=0.5, random_state=1)\n",
    "\n",
    "sub = pd.read_csv(path+\"sample_submission.csv\")"
   ]
  },
  {
   "cell_type": "code",
   "execution_count": 4,
   "metadata": {
    "execution": {
     "iopub.execute_input": "2025-01-24T07:26:15.669477Z",
     "iopub.status.busy": "2025-01-24T07:26:15.669076Z",
     "iopub.status.idle": "2025-01-24T07:26:15.682536Z",
     "shell.execute_reply": "2025-01-24T07:26:15.681524Z",
     "shell.execute_reply.started": "2025-01-24T07:26:15.669434Z"
    },
    "trusted": true
   },
   "outputs": [
    {
     "data": {
      "text/html": [
       "<div>\n",
       "<style scoped>\n",
       "    .dataframe tbody tr th:only-of-type {\n",
       "        vertical-align: middle;\n",
       "    }\n",
       "\n",
       "    .dataframe tbody tr th {\n",
       "        vertical-align: top;\n",
       "    }\n",
       "\n",
       "    .dataframe thead th {\n",
       "        text-align: right;\n",
       "    }\n",
       "</style>\n",
       "<table border=\"1\" class=\"dataframe\">\n",
       "  <thead>\n",
       "    <tr style=\"text-align: right;\">\n",
       "      <th></th>\n",
       "      <th>id</th>\n",
       "      <th>prompt</th>\n",
       "      <th>response_a</th>\n",
       "      <th>response_b</th>\n",
       "      <th>winner</th>\n",
       "      <th>model_a</th>\n",
       "      <th>model_b</th>\n",
       "      <th>language</th>\n",
       "    </tr>\n",
       "  </thead>\n",
       "  <tbody>\n",
       "    <tr>\n",
       "      <th>18632</th>\n",
       "      <td>623e2aa50f13aece7fb1c60cf555d8c7d290692f679655...</td>\n",
       "      <td>Phân tích kết quả sản xuất (KQSX) về chất lượn...</td>\n",
       "      <td>Để phân tích kết quả sản xuất (KQSX) về chất l...</td>\n",
       "      <td>Phân tích kết quả sản xuất (KQSX) về chất lượn...</td>\n",
       "      <td>model_a</td>\n",
       "      <td>yi-lightning</td>\n",
       "      <td>internlm2_5-20b-chat</td>\n",
       "      <td>Vietnamese</td>\n",
       "    </tr>\n",
       "    <tr>\n",
       "      <th>34859</th>\n",
       "      <td>b87079eef09873032f653314cfddd05e7bf77e4e6d0449...</td>\n",
       "      <td>Write a sample of Old Uyghur</td>\n",
       "      <td>Providing a truly representative sample of Old...</td>\n",
       "      <td>I apologize, but I cannot generate an authenti...</td>\n",
       "      <td>model_a</td>\n",
       "      <td>gemini-1.5-flash-002</td>\n",
       "      <td>claude-3-5-sonnet-20240620</td>\n",
       "      <td>English</td>\n",
       "    </tr>\n",
       "    <tr>\n",
       "      <th>43764</th>\n",
       "      <td>e721d5bfbff8e05e2ffa92e0137a570c1b1b7fa3f7bbf7...</td>\n",
       "      <td>Write a poem in the style of Ada Limon.</td>\n",
       "      <td>**Under the Bruise of the World**\\n\\nIn the ga...</td>\n",
       "      <td>Here's a poem inspired by the style of Ada Lim...</td>\n",
       "      <td>model_b</td>\n",
       "      <td>reka-core-20240722</td>\n",
       "      <td>grok-2-2024-08-13</td>\n",
       "      <td>English</td>\n",
       "    </tr>\n",
       "    <tr>\n",
       "      <th>22541</th>\n",
       "      <td>77350a005d0195fa951b9fb073b018f2f6424a58ee58b5...</td>\n",
       "      <td>describe the way \"golden slumbers\" by the beat...</td>\n",
       "      <td>Describing the way \"Golden Slumbers\" by The Be...</td>\n",
       "      <td>For a deaf person who has never heard \"Golden ...</td>\n",
       "      <td>model_a</td>\n",
       "      <td>jamba-1.5-large</td>\n",
       "      <td>deepseek-coder-v2-0724</td>\n",
       "      <td>English</td>\n",
       "    </tr>\n",
       "    <tr>\n",
       "      <th>37157</th>\n",
       "      <td>c43d63ee99a8b776065f410e4a1e0791a4449230cfd648...</td>\n",
       "      <td>かけっこをしています。あなたは3位の人を抜かし ました。今あなたは何位？</td>\n",
       "      <td>3位です。あなたは3位の人を抜かしたので、今あなたは3位になります。</td>\n",
       "      <td>はい、かけっこの状況について考えてみましょう。\\n\\n問題文から、以下のことがわかります。\\...</td>\n",
       "      <td>model_a</td>\n",
       "      <td>o1-preview</td>\n",
       "      <td>claude-3-opus-20240229</td>\n",
       "      <td>Japanese</td>\n",
       "    </tr>\n",
       "  </tbody>\n",
       "</table>\n",
       "</div>"
      ],
      "text/plain": [
       "                                                      id  \\\n",
       "18632  623e2aa50f13aece7fb1c60cf555d8c7d290692f679655...   \n",
       "34859  b87079eef09873032f653314cfddd05e7bf77e4e6d0449...   \n",
       "43764  e721d5bfbff8e05e2ffa92e0137a570c1b1b7fa3f7bbf7...   \n",
       "22541  77350a005d0195fa951b9fb073b018f2f6424a58ee58b5...   \n",
       "37157  c43d63ee99a8b776065f410e4a1e0791a4449230cfd648...   \n",
       "\n",
       "                                                  prompt  \\\n",
       "18632  Phân tích kết quả sản xuất (KQSX) về chất lượn...   \n",
       "34859                       Write a sample of Old Uyghur   \n",
       "43764            Write a poem in the style of Ada Limon.   \n",
       "22541  describe the way \"golden slumbers\" by the beat...   \n",
       "37157               かけっこをしています。あなたは3位の人を抜かし ました。今あなたは何位？   \n",
       "\n",
       "                                              response_a  \\\n",
       "18632  Để phân tích kết quả sản xuất (KQSX) về chất l...   \n",
       "34859  Providing a truly representative sample of Old...   \n",
       "43764  **Under the Bruise of the World**\\n\\nIn the ga...   \n",
       "22541  Describing the way \"Golden Slumbers\" by The Be...   \n",
       "37157                 3位です。あなたは3位の人を抜かしたので、今あなたは3位になります。   \n",
       "\n",
       "                                              response_b   winner  \\\n",
       "18632  Phân tích kết quả sản xuất (KQSX) về chất lượn...  model_a   \n",
       "34859  I apologize, but I cannot generate an authenti...  model_a   \n",
       "43764  Here's a poem inspired by the style of Ada Lim...  model_b   \n",
       "22541  For a deaf person who has never heard \"Golden ...  model_a   \n",
       "37157  はい、かけっこの状況について考えてみましょう。\\n\\n問題文から、以下のことがわかります。\\...  model_a   \n",
       "\n",
       "                    model_a                     model_b    language  \n",
       "18632          yi-lightning        internlm2_5-20b-chat  Vietnamese  \n",
       "34859  gemini-1.5-flash-002  claude-3-5-sonnet-20240620     English  \n",
       "43764    reka-core-20240722           grok-2-2024-08-13     English  \n",
       "22541       jamba-1.5-large      deepseek-coder-v2-0724     English  \n",
       "37157            o1-preview      claude-3-opus-20240229    Japanese  "
      ]
     },
     "execution_count": 4,
     "metadata": {},
     "output_type": "execute_result"
    }
   ],
   "source": [
    "train.head()"
   ]
  },
  {
   "cell_type": "code",
   "execution_count": 5,
   "metadata": {
    "execution": {
     "iopub.execute_input": "2025-01-24T07:26:15.684463Z",
     "iopub.status.busy": "2025-01-24T07:26:15.684105Z",
     "iopub.status.idle": "2025-01-24T07:26:15.706847Z",
     "shell.execute_reply": "2025-01-24T07:26:15.705542Z",
     "shell.execute_reply.started": "2025-01-24T07:26:15.684426Z"
    },
    "trusted": true
   },
   "outputs": [
    {
     "data": {
      "text/html": [
       "<div>\n",
       "<style scoped>\n",
       "    .dataframe tbody tr th:only-of-type {\n",
       "        vertical-align: middle;\n",
       "    }\n",
       "\n",
       "    .dataframe tbody tr th {\n",
       "        vertical-align: top;\n",
       "    }\n",
       "\n",
       "    .dataframe thead th {\n",
       "        text-align: right;\n",
       "    }\n",
       "</style>\n",
       "<table border=\"1\" class=\"dataframe\">\n",
       "  <thead>\n",
       "    <tr style=\"text-align: right;\">\n",
       "      <th></th>\n",
       "      <th>id</th>\n",
       "      <th>prompt</th>\n",
       "      <th>response_a</th>\n",
       "      <th>response_b</th>\n",
       "      <th>winner</th>\n",
       "      <th>model_a</th>\n",
       "      <th>model_b</th>\n",
       "      <th>language</th>\n",
       "    </tr>\n",
       "  </thead>\n",
       "  <tbody>\n",
       "    <tr>\n",
       "      <th>7419</th>\n",
       "      <td>271ba404fc25609b8ceb6f37c3375f278c42e2479514ea...</td>\n",
       "      <td>Улучшь сообщение: Добрый вечер! \\nЭто Алексей ...</td>\n",
       "      <td>Добрый вечер!\\n\\nМеня зовут Алексей Королев, я...</td>\n",
       "      <td>Добрый вечер!\\n\\nЯ, Алексей Королев, заместите...</td>\n",
       "      <td>model_b</td>\n",
       "      <td>qwen-max-0919</td>\n",
       "      <td>c4ai-aya-expanse-32b</td>\n",
       "      <td>Russian</td>\n",
       "    </tr>\n",
       "    <tr>\n",
       "      <th>39112</th>\n",
       "      <td>ce7be103ac8f040accc9b8ec421a6cbf78189c503671df...</td>\n",
       "      <td>i have a notification icon in my webpage. when...</td>\n",
       "      <td>Certainly! To implement a notification system ...</td>\n",
       "      <td>Here's a simple example of how you can achieve...</td>\n",
       "      <td>model_b</td>\n",
       "      <td>qwen2.5-72b-instruct</td>\n",
       "      <td>llama-3.1-405b-instruct-bf16</td>\n",
       "      <td>English</td>\n",
       "    </tr>\n",
       "    <tr>\n",
       "      <th>33946</th>\n",
       "      <td>b39725e0a7992eb0c5f34542f960727a4fd306741568fb...</td>\n",
       "      <td>I have a raspberry pi that is booted from USB....</td>\n",
       "      <td>**Hotplugging the SD Card on a Raspberry Pi**\\...</td>\n",
       "      <td>No, you generally **cannot** safely hotplug th...</td>\n",
       "      <td>model_a</td>\n",
       "      <td>llama-3.1-8b-instruct</td>\n",
       "      <td>gemini-1.5-pro-exp-0827</td>\n",
       "      <td>English</td>\n",
       "    </tr>\n",
       "    <tr>\n",
       "      <th>35392</th>\n",
       "      <td>bb33f84e8e85da9e41fa271f6210fdffba0400d725a04c...</td>\n",
       "      <td>Imagine video on YouTube \"Asking people what i...</td>\n",
       "      <td>Here are some imagined YouTube comments relati...</td>\n",
       "      <td>Here are some comments that might appear under...</td>\n",
       "      <td>model_a</td>\n",
       "      <td>gemini-1.5-flash-002</td>\n",
       "      <td>gemma-2-27b-it</td>\n",
       "      <td>English</td>\n",
       "    </tr>\n",
       "    <tr>\n",
       "      <th>10254</th>\n",
       "      <td>364c8146a6a236fbdfa34492dba10405a0e448d3062316...</td>\n",
       "      <td>generate a wine description</td>\n",
       "      <td>Please provide some context!  To generate a co...</td>\n",
       "      <td>**Wine Description:**\\n\\n**Name:** Sunset on t...</td>\n",
       "      <td>model_b</td>\n",
       "      <td>gemini-1.5-flash-8b-001</td>\n",
       "      <td>llama-3.1-70b-instruct</td>\n",
       "      <td>English</td>\n",
       "    </tr>\n",
       "  </tbody>\n",
       "</table>\n",
       "</div>"
      ],
      "text/plain": [
       "                                                      id  \\\n",
       "7419   271ba404fc25609b8ceb6f37c3375f278c42e2479514ea...   \n",
       "39112  ce7be103ac8f040accc9b8ec421a6cbf78189c503671df...   \n",
       "33946  b39725e0a7992eb0c5f34542f960727a4fd306741568fb...   \n",
       "35392  bb33f84e8e85da9e41fa271f6210fdffba0400d725a04c...   \n",
       "10254  364c8146a6a236fbdfa34492dba10405a0e448d3062316...   \n",
       "\n",
       "                                                  prompt  \\\n",
       "7419   Улучшь сообщение: Добрый вечер! \\nЭто Алексей ...   \n",
       "39112  i have a notification icon in my webpage. when...   \n",
       "33946  I have a raspberry pi that is booted from USB....   \n",
       "35392  Imagine video on YouTube \"Asking people what i...   \n",
       "10254                        generate a wine description   \n",
       "\n",
       "                                              response_a  \\\n",
       "7419   Добрый вечер!\\n\\nМеня зовут Алексей Королев, я...   \n",
       "39112  Certainly! To implement a notification system ...   \n",
       "33946  **Hotplugging the SD Card on a Raspberry Pi**\\...   \n",
       "35392  Here are some imagined YouTube comments relati...   \n",
       "10254  Please provide some context!  To generate a co...   \n",
       "\n",
       "                                              response_b   winner  \\\n",
       "7419   Добрый вечер!\\n\\nЯ, Алексей Королев, заместите...  model_b   \n",
       "39112  Here's a simple example of how you can achieve...  model_b   \n",
       "33946  No, you generally **cannot** safely hotplug th...  model_a   \n",
       "35392  Here are some comments that might appear under...  model_a   \n",
       "10254  **Wine Description:**\\n\\n**Name:** Sunset on t...  model_b   \n",
       "\n",
       "                       model_a                       model_b language  \n",
       "7419             qwen-max-0919          c4ai-aya-expanse-32b  Russian  \n",
       "39112     qwen2.5-72b-instruct  llama-3.1-405b-instruct-bf16  English  \n",
       "33946    llama-3.1-8b-instruct       gemini-1.5-pro-exp-0827  English  \n",
       "35392     gemini-1.5-flash-002                gemma-2-27b-it  English  \n",
       "10254  gemini-1.5-flash-8b-001        llama-3.1-70b-instruct  English  "
      ]
     },
     "execution_count": 5,
     "metadata": {},
     "output_type": "execute_result"
    }
   ],
   "source": [
    "test.head()"
   ]
  },
  {
   "cell_type": "code",
   "execution_count": 24,
   "metadata": {},
   "outputs": [
    {
     "data": {
      "text/plain": [
       "BertModel(\n",
       "  (embeddings): BertEmbeddings(\n",
       "    (word_embeddings): Embedding(250037, 384, padding_idx=0)\n",
       "    (position_embeddings): Embedding(512, 384)\n",
       "    (token_type_embeddings): Embedding(2, 384)\n",
       "    (LayerNorm): LayerNorm((384,), eps=1e-12, elementwise_affine=True)\n",
       "    (dropout): Dropout(p=0.1, inplace=False)\n",
       "  )\n",
       "  (encoder): BertEncoder(\n",
       "    (layer): ModuleList(\n",
       "      (0-11): 12 x BertLayer(\n",
       "        (attention): BertAttention(\n",
       "          (self): BertSdpaSelfAttention(\n",
       "            (query): Linear(in_features=384, out_features=384, bias=True)\n",
       "            (key): Linear(in_features=384, out_features=384, bias=True)\n",
       "            (value): Linear(in_features=384, out_features=384, bias=True)\n",
       "            (dropout): Dropout(p=0.1, inplace=False)\n",
       "          )\n",
       "          (output): BertSelfOutput(\n",
       "            (dense): Linear(in_features=384, out_features=384, bias=True)\n",
       "            (LayerNorm): LayerNorm((384,), eps=1e-12, elementwise_affine=True)\n",
       "            (dropout): Dropout(p=0.1, inplace=False)\n",
       "          )\n",
       "        )\n",
       "        (intermediate): BertIntermediate(\n",
       "          (dense): Linear(in_features=384, out_features=1536, bias=True)\n",
       "          (intermediate_act_fn): GELUActivation()\n",
       "        )\n",
       "        (output): BertOutput(\n",
       "          (dense): Linear(in_features=1536, out_features=384, bias=True)\n",
       "          (LayerNorm): LayerNorm((384,), eps=1e-12, elementwise_affine=True)\n",
       "          (dropout): Dropout(p=0.1, inplace=False)\n",
       "        )\n",
       "      )\n",
       "    )\n",
       "  )\n",
       "  (pooler): BertPooler(\n",
       "    (dense): Linear(in_features=384, out_features=384, bias=True)\n",
       "    (activation): Tanh()\n",
       "  )\n",
       ")"
      ]
     },
     "execution_count": 24,
     "metadata": {},
     "output_type": "execute_result"
    }
   ],
   "source": [
    "model = AutoModel.from_pretrained(\"./fine_tuned_nsp_e5\")\n",
    "model"
   ]
  },
  {
   "cell_type": "code",
   "execution_count": 27,
   "metadata": {},
   "outputs": [],
   "source": [
    "class QADataset(Dataset):\n",
    "    def __init__(self, data, device, tokenizer):\n",
    "        self.data = data\n",
    "        self.device = device\n",
    "        self.tokenizer = tokenizer\n",
    "    \n",
    "    def __len__(self):\n",
    "        return len(self.data)\n",
    "    \n",
    "    def __getitem__(self, idx):\n",
    "        row = self.data.iloc[idx]\n",
    "\n",
    "        prompt_encoding = self.tokenizer(\n",
    "            row[\"prompt\"],\n",
    "            truncation=True, padding='max_length',\n",
    "            # max_length=self.max_len,\n",
    "            return_tensors='pt'\n",
    "        )\n",
    "\n",
    "        response_a_encoding = self.tokenizer(\n",
    "            row[\"response_a\"],\n",
    "            truncation=True, padding='max_length',\n",
    "            # max_length=self.max_len,\n",
    "            return_tensors='pt'\n",
    "        )\n",
    "\n",
    "        response_b_encoding = self.tokenizer(\n",
    "            row[\"response_b\"],\n",
    "            truncation=True, padding='max_length',\n",
    "            # max_length=self.max_len,\n",
    "            return_tensors='pt'\n",
    "        )\n",
    "\n",
    "        prompt = {k: v.squeeze(0).to(self.device) for k, v in prompt_encoding.items()}\n",
    "        response_a = {k: v.squeeze(0).to(self.device) for k, v in response_a_encoding.items()}\n",
    "        response_b = {k: v.squeeze(0).to(self.device) for k, v in response_b_encoding.items()}\n",
    "\n",
    "        return (\n",
    "            prompt, response_a, response_b\n",
    "        )\n",
    "    "
   ]
  },
  {
   "cell_type": "code",
   "execution_count": 29,
   "metadata": {},
   "outputs": [],
   "source": [
    "device = 'cuda'\n",
    "\n",
    "model = AutoModel.from_pretrained(\"./fine_tuned_nsp_e5\")\n",
    "tokenizer = AutoTokenizer.from_pretrained(\"./fine_tuned_nsp_e5\")\n",
    "\n",
    "model = model.to(device)\n",
    "\n",
    "batch_size = 128\n",
    "train_data_loader = DataLoader(QADataset(train, device, tokenizer), batch_size=batch_size, shuffle=True, drop_last=True)\n",
    "eval_data_loader = DataLoader(QADataset(eval, device, tokenizer), batch_size=batch_size, drop_last=True)\n",
    "test_data_loader = DataLoader(QADataset(test, device, tokenizer), batch_size=batch_size, drop_last=True)\n",
    "\n"
   ]
  },
  {
   "cell_type": "code",
   "execution_count": 30,
   "metadata": {},
   "outputs": [],
   "source": [
    "@torch.no_grad()\n",
    "def get_dataloader_embeddings(dataloader: DataLoader, model):\n",
    "    embeddings = {\n",
    "        \"prompt\": [], \n",
    "        \"response_a\": [], \n",
    "        \"response_b\": [], \n",
    "    }\n",
    "\n",
    "    model.eval()\n",
    "\n",
    "    for batch in tqdm(dataloader):\n",
    "        prompts = batch[0]\n",
    "        responses_a = batch[1]\n",
    "        responses_b = batch[2]\n",
    "\n",
    "        prompts_embs = model(**prompts).pooler_output\n",
    "        response_a_embs = model(**responses_a).pooler_output\n",
    "        response_b_embs = model(**responses_b).pooler_output\n",
    "\n",
    "        embeddings[\"prompt\"].append(prompts_embs.detach().cpu().numpy())\n",
    "        embeddings[\"response_a\"].append(response_a_embs.detach().cpu().numpy())\n",
    "        embeddings[\"response_b\"].append(response_b_embs.detach().cpu().numpy())\n",
    "    \n",
    "    return embeddings"
   ]
  },
  {
   "cell_type": "code",
   "execution_count": 31,
   "metadata": {},
   "outputs": [
    {
     "name": "stderr",
     "output_type": "stream",
     "text": [
      "100%|██████████| 544/544 [07:16<00:00,  1.25it/s]\n",
      "100%|██████████| 37/37 [00:29<00:00,  1.26it/s]\n",
      "100%|██████████| 37/37 [00:30<00:00,  1.23it/s]\n"
     ]
    }
   ],
   "source": [
    "train_embeddings = get_dataloader_embeddings(train_data_loader, model)\n",
    "eval_embeddings = get_dataloader_embeddings(eval_data_loader, model)\n",
    "test_embeddings = get_dataloader_embeddings(test_data_loader, model)"
   ]
  },
  {
   "cell_type": "code",
   "execution_count": 32,
   "metadata": {},
   "outputs": [
    {
     "data": {
      "text/plain": [
       "(128, 384)"
      ]
     },
     "execution_count": 32,
     "metadata": {},
     "output_type": "execute_result"
    }
   ],
   "source": [
    "train_embeddings['prompt'][0].shape"
   ]
  },
  {
   "cell_type": "code",
   "execution_count": 33,
   "metadata": {},
   "outputs": [],
   "source": [
    "def aggregate_dataloader_embeddings(embeddings: dict[str, list[np.ndarray]]):\n",
    "    prompts_embs = np.concatenate(embeddings['prompt'])\n",
    "    response_a_embs = np.concatenate(embeddings['response_a'])\n",
    "    response_b_embs = np.concatenate(embeddings['response_b'])\n",
    "\n",
    "    all_embs = np.concatenate([prompts_embs, response_a_embs, response_b_embs], axis=1)\n",
    "    return all_embs\n",
    "\n",
    "train_features = aggregate_dataloader_embeddings(train_embeddings)\n",
    "eval_features = aggregate_dataloader_embeddings(eval_embeddings)\n",
    "test_features = aggregate_dataloader_embeddings(test_embeddings)"
   ]
  },
  {
   "cell_type": "code",
   "execution_count": 34,
   "metadata": {},
   "outputs": [
    {
     "name": "stdout",
     "output_type": "stream",
     "text": [
      "69632 69632\n",
      "4736 4736\n",
      "4736 4736\n"
     ]
    }
   ],
   "source": [
    "X_train = train_features\n",
    "y_train = train['winner'].iloc[:len(X_train)]\n",
    "\n",
    "X_eval = eval_features\n",
    "y_eval = eval['winner'].iloc[:len(X_eval)]\n",
    "\n",
    "X_test = test_features\n",
    "y_test = test['winner'].iloc[:len(X_test)]\n",
    "\n",
    "\n",
    "print(len(X_train), len(y_train))\n",
    "print(len(X_eval), len(y_eval))\n",
    "print(len(X_test), len(y_test))"
   ]
  },
  {
   "cell_type": "code",
   "execution_count": 35,
   "metadata": {},
   "outputs": [
    {
     "name": "stdout",
     "output_type": "stream",
     "text": [
      "Learning rate set to 0.090382\n",
      "0:\tlearn: 0.5088178\ttest: 0.5027449\tbest: 0.5027449 (0)\ttotal: 28.6ms\tremaining: 28.5s\n",
      "100:\tlearn: 0.5907341\ttest: 0.4936655\tbest: 0.5219595 (9)\ttotal: 3.62s\tremaining: 32.2s\n",
      "200:\tlearn: 0.6505055\ttest: 0.4888091\tbest: 0.5219595 (9)\ttotal: 7.07s\tremaining: 28.1s\n",
      "300:\tlearn: 0.6914350\ttest: 0.4966216\tbest: 0.5219595 (9)\ttotal: 10.4s\tremaining: 24.1s\n",
      "400:\tlearn: 0.7241355\ttest: 0.4921875\tbest: 0.5219595 (9)\ttotal: 13.8s\tremaining: 20.7s\n",
      "500:\tlearn: 0.7519100\ttest: 0.4993666\tbest: 0.5219595 (9)\ttotal: 17.4s\tremaining: 17.4s\n",
      "600:\tlearn: 0.7736242\ttest: 0.4987331\tbest: 0.5219595 (9)\ttotal: 20.8s\tremaining: 13.8s\n",
      "700:\tlearn: 0.7903694\ttest: 0.4978885\tbest: 0.5219595 (9)\ttotal: 24.1s\tremaining: 10.3s\n",
      "800:\tlearn: 0.8066981\ttest: 0.5025338\tbest: 0.5219595 (9)\ttotal: 27.6s\tremaining: 6.85s\n",
      "900:\tlearn: 0.8234002\ttest: 0.4968328\tbest: 0.5219595 (9)\ttotal: 31.1s\tremaining: 3.42s\n",
      "999:\tlearn: 0.8359231\ttest: 0.4991554\tbest: 0.5219595 (9)\ttotal: 34.5s\tremaining: 0us\n",
      "\n",
      "bestTest = 0.5219594595\n",
      "bestIteration = 9\n",
      "\n",
      "Shrink model to first 10 iterations.\n"
     ]
    },
    {
     "data": {
      "text/plain": [
       "<catboost.core.CatBoostClassifier at 0x7f3e02bc2fd0>"
      ]
     },
     "execution_count": 35,
     "metadata": {},
     "output_type": "execute_result"
    }
   ],
   "source": [
    "cbm = CatBoostClassifier(depth=6, random_state=42, eval_metric=\"Accuracy\", verbose=100)\n",
    "cbm.fit(X_train, y_train, eval_set=(X_eval, y_eval))"
   ]
  },
  {
   "cell_type": "code",
   "execution_count": null,
   "metadata": {},
   "outputs": [],
   "source": []
  }
 ],
 "metadata": {
  "kaggle": {
   "accelerator": "none",
   "dataSources": [
    {
     "databundleVersionId": 10131489,
     "sourceId": 86946,
     "sourceType": "competition"
    }
   ],
   "dockerImageVersionId": 30823,
   "isGpuEnabled": false,
   "isInternetEnabled": false,
   "language": "python",
   "sourceType": "notebook"
  },
  "kernelspec": {
   "display_name": ".venv",
   "language": "python",
   "name": "python3"
  },
  "language_info": {
   "codemirror_mode": {
    "name": "ipython",
    "version": 3
   },
   "file_extension": ".py",
   "mimetype": "text/x-python",
   "name": "python",
   "nbconvert_exporter": "python",
   "pygments_lexer": "ipython3",
   "version": "3.11.10"
  }
 },
 "nbformat": 4,
 "nbformat_minor": 4
}
