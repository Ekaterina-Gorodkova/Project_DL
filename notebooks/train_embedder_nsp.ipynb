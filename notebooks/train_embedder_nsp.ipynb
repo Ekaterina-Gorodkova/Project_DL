{
 "cells": [
  {
   "cell_type": "code",
   "execution_count": null,
   "metadata": {},
   "outputs": [],
   "source": [
    "import numpy as np\n",
    "import pandas as pd \n",
    "\n",
    "from sklearn.model_selection import train_test_split\n",
    "from sklearn.metrics import accuracy_score\n",
    "\n",
    "from transformers import pipeline, AutoTokenizer, get_linear_schedule_with_warmup, AutoModel\n",
    "import torch\n",
    "from torch import nn\n",
    "from torch.utils.data import Dataset, DataLoader\n",
    "\n",
    "import matplotlib.pyplot as plt\n",
    "\n",
    "from tqdm import tqdm\n",
    "tqdm.pandas()\n",
    "from IPython.display import clear_output"
   ]
  },
  {
   "cell_type": "markdown",
   "metadata": {},
   "source": [
    "**Warning:**\n",
    "Изначально данный ноутбук обучал модель `intfloat/multilingual-e5-small` предсказывать классифицировать пару предложений как последовательные. Однако такая версия ноутбука была утрачена и впоследствии заменена на бесполезный в контексте решения нашей задачи алгоритм формирования эмбеддингов через косинусное расстояние между парой предложений. \n",
    "\n",
    "Данная процедура обучения носит лишь практический характер, но не исследовательский."
   ]
  },
  {
   "cell_type": "code",
   "execution_count": 2,
   "metadata": {},
   "outputs": [
    {
     "name": "stdout",
     "output_type": "stream",
     "text": [
      "(2365728, 3) (591432, 3)\n",
      "Index(['start', 'next', 'label'], dtype='object')\n"
     ]
    }
   ],
   "source": [
    "path=\"../data/\"\n",
    "dataset = pd.read_csv(path+\"nsp.csv\")\n",
    "\n",
    "train, test = train_test_split(dataset, test_size=0.2, random_state=1)\n",
    "eval = test[:5000]\n",
    "print(train.shape, test.shape)\n",
    "\n",
    "print(train.columns)"
   ]
  },
  {
   "cell_type": "code",
   "execution_count": 3,
   "metadata": {},
   "outputs": [],
   "source": [
    "device = 'cuda'"
   ]
  },
  {
   "cell_type": "code",
   "execution_count": 4,
   "metadata": {},
   "outputs": [
    {
     "name": "stdout",
     "output_type": "stream",
     "text": [
      "<class 'transformers.models.bert.modeling_bert.BertModel'>\n"
     ]
    }
   ],
   "source": [
    "model_name = \"intfloat/multilingual-e5-small\"\n",
    "tokenizer = AutoTokenizer.from_pretrained(model_name)\n",
    "model = AutoModel.from_pretrained(model_name)\n",
    "print(type(model))"
   ]
  },
  {
   "cell_type": "code",
   "execution_count": 5,
   "metadata": {},
   "outputs": [
    {
     "data": {
      "text/plain": [
       "BertModel(\n",
       "  (embeddings): BertEmbeddings(\n",
       "    (word_embeddings): Embedding(250037, 384, padding_idx=0)\n",
       "    (position_embeddings): Embedding(512, 384)\n",
       "    (token_type_embeddings): Embedding(2, 384)\n",
       "    (LayerNorm): LayerNorm((384,), eps=1e-12, elementwise_affine=True)\n",
       "    (dropout): Dropout(p=0.1, inplace=False)\n",
       "  )\n",
       "  (encoder): BertEncoder(\n",
       "    (layer): ModuleList(\n",
       "      (0-11): 12 x BertLayer(\n",
       "        (attention): BertAttention(\n",
       "          (self): BertSdpaSelfAttention(\n",
       "            (query): Linear(in_features=384, out_features=384, bias=True)\n",
       "            (key): Linear(in_features=384, out_features=384, bias=True)\n",
       "            (value): Linear(in_features=384, out_features=384, bias=True)\n",
       "            (dropout): Dropout(p=0.1, inplace=False)\n",
       "          )\n",
       "          (output): BertSelfOutput(\n",
       "            (dense): Linear(in_features=384, out_features=384, bias=True)\n",
       "            (LayerNorm): LayerNorm((384,), eps=1e-12, elementwise_affine=True)\n",
       "            (dropout): Dropout(p=0.1, inplace=False)\n",
       "          )\n",
       "        )\n",
       "        (intermediate): BertIntermediate(\n",
       "          (dense): Linear(in_features=384, out_features=1536, bias=True)\n",
       "          (intermediate_act_fn): GELUActivation()\n",
       "        )\n",
       "        (output): BertOutput(\n",
       "          (dense): Linear(in_features=1536, out_features=384, bias=True)\n",
       "          (LayerNorm): LayerNorm((384,), eps=1e-12, elementwise_affine=True)\n",
       "          (dropout): Dropout(p=0.1, inplace=False)\n",
       "        )\n",
       "      )\n",
       "    )\n",
       "  )\n",
       "  (pooler): BertPooler(\n",
       "    (dense): Linear(in_features=384, out_features=384, bias=True)\n",
       "    (activation): Tanh()\n",
       "  )\n",
       ")"
      ]
     },
     "execution_count": 5,
     "metadata": {},
     "output_type": "execute_result"
    }
   ],
   "source": [
    "model"
   ]
  },
  {
   "cell_type": "code",
   "execution_count": 6,
   "metadata": {},
   "outputs": [],
   "source": [
    "class NextSentenceDataset(Dataset):\n",
    "    def __init__(self, data, tokenizer, device):\n",
    "        self.start_sents = data['start']\n",
    "        self.next_sents = data['next']\n",
    "        self.labels = data['label']\n",
    "        self.device = device\n",
    "        self.tokenizer = tokenizer\n",
    "        \n",
    "\n",
    "    def __len__(self):\n",
    "        return len(self.start_sents)\n",
    "\n",
    "    def __getitem__(self, idx):\n",
    "        start = self.start_sents.iloc[idx]\n",
    "        next = self.next_sents.iloc[idx]\n",
    "        label = self.labels.iloc[idx]\n",
    "\n",
    "        start_encoding = self.tokenizer(\n",
    "            start,\n",
    "            truncation=True, padding='max_length',\n",
    "            # max_length=self.max_len,\n",
    "            return_tensors='pt'\n",
    "        )\n",
    "        next_encoding = self.tokenizer(\n",
    "            next,\n",
    "            truncation=True, padding='max_length',\n",
    "            # max_length=self.max_len,\n",
    "            return_tensors='pt'\n",
    "        )\n",
    "        label = -1 if label == 0 else label\n",
    "        label = torch.tensor(label, device=self.device)\n",
    "\n",
    "        start_encoding = {k: v.squeeze(0).to(self.device) for k, v in start_encoding.items()}\n",
    "        next_encoding = {k: v.squeeze(0).to(self.device) for k, v in next_encoding.items()}\n",
    "\n",
    "        return start_encoding, next_encoding, label"
   ]
  },
  {
   "cell_type": "code",
   "execution_count": 7,
   "metadata": {},
   "outputs": [],
   "source": [
    "train_dataset = NextSentenceDataset(train, tokenizer, device)\n",
    "eval_dataset = NextSentenceDataset(eval, tokenizer, device)\n",
    "test_dataset = NextSentenceDataset(test, tokenizer, device)\n",
    "\n",
    "batch_size = 16\n",
    "train_dataloader = DataLoader(train_dataset, batch_size=batch_size, shuffle=True, drop_last=True)\n",
    "eval_dataloader = DataLoader(eval_dataset, batch_size=batch_size, drop_last=True)\n",
    "test_dataloader = DataLoader(test_dataset, batch_size=batch_size, drop_last=True)"
   ]
  },
  {
   "cell_type": "code",
   "execution_count": 8,
   "metadata": {},
   "outputs": [
    {
     "name": "stdout",
     "output_type": "stream",
     "text": [
      "[{'input_ids': tensor([[     0,   6646,   2124,  ...,      1,      1,      1],\n",
      "        [     0,  88606,    329,  ...,      1,      1,      1],\n",
      "        [     0,    901,  48034,  ...,      1,      1,      1],\n",
      "        ...,\n",
      "        [     0,  16459,  28634,  ...,      1,      1,      1],\n",
      "        [     0,     20,   4805,  ...,      1,      1,      1],\n",
      "        [     0,  16459, 194583,  ...,      1,      1,      1]],\n",
      "       device='cuda:0'), 'attention_mask': tensor([[1, 1, 1,  ..., 0, 0, 0],\n",
      "        [1, 1, 1,  ..., 0, 0, 0],\n",
      "        [1, 1, 1,  ..., 0, 0, 0],\n",
      "        ...,\n",
      "        [1, 1, 1,  ..., 0, 0, 0],\n",
      "        [1, 1, 1,  ..., 0, 0, 0],\n",
      "        [1, 1, 1,  ..., 0, 0, 0]], device='cuda:0')}, {'input_ids': tensor([[     0,   4394,    178,  ...,      1,      1,      1],\n",
      "        [     0,  16459,    363,  ...,      1,      1,      1],\n",
      "        [     0,  16459,    647,  ...,      1,      1,      1],\n",
      "        ...,\n",
      "        [     0,    672, 156269,  ...,      1,      1,      1],\n",
      "        [     0,   1031,      2,  ...,      1,      1,      1],\n",
      "        [     0,  16459,      2,  ...,      1,      1,      1]],\n",
      "       device='cuda:0'), 'attention_mask': tensor([[1, 1, 1,  ..., 0, 0, 0],\n",
      "        [1, 1, 1,  ..., 0, 0, 0],\n",
      "        [1, 1, 1,  ..., 0, 0, 0],\n",
      "        ...,\n",
      "        [1, 1, 1,  ..., 0, 0, 0],\n",
      "        [1, 1, 1,  ..., 0, 0, 0],\n",
      "        [1, 1, 1,  ..., 0, 0, 0]], device='cuda:0')}, tensor([-1,  1, -1, -1, -1,  1,  1,  1, -1,  1, -1, -1,  1, -1,  1,  1],\n",
      "       device='cuda:0')]\n"
     ]
    }
   ],
   "source": [
    "for batch in train_dataloader:\n",
    "    print(batch)\n",
    "    break"
   ]
  },
  {
   "cell_type": "code",
   "execution_count": 9,
   "metadata": {},
   "outputs": [],
   "source": [
    "n_epochs = 1\n",
    "\n",
    "optimizer = torch.optim.AdamW(model.parameters(), lr=1e-5)\n",
    "total_steps = 10000\n",
    "warmup_steps = 1\n",
    "scheduler = get_linear_schedule_with_warmup(optimizer, \n",
    "                                            num_warmup_steps=warmup_steps, \n",
    "                                            num_training_steps=total_steps)\n",
    "loss_fn = torch.nn.CosineEmbeddingLoss()"
   ]
  },
  {
   "cell_type": "code",
   "execution_count": 10,
   "metadata": {},
   "outputs": [],
   "source": [
    "@torch.no_grad()\n",
    "def evaluate(model, dataloader, device):\n",
    "    print(f\"Evaluating...\")\n",
    "    model.eval()\n",
    "    model.to(device)\n",
    "\n",
    "    total_loss = 0\n",
    "    for j, batch in enumerate(tqdm(dataloader, position=1)):\n",
    "        starts, nexts, labels = batch\n",
    "        start_embeddings = model(**starts).pooler_output\n",
    "        next_embeddings = model(**nexts).pooler_output\n",
    "        loss = loss_fn(start_embeddings, next_embeddings, labels)\n",
    "        total_loss += loss.item()\n",
    "\n",
    "    model.train()\n",
    "    \n",
    "    return total_loss / len(dataloader)\n",
    "\n",
    "    \n",
    "\n",
    "def train_loop(model, train_dataloader, test_dataloader, n_epochs, device, optimizer, scheduler):\n",
    "    model.train()\n",
    "    model.to(device)\n",
    "\n",
    "    losses = []\n",
    "    eval_losses = []\n",
    "\n",
    "    p_bar = tqdm(train_dataloader, position=0)\n",
    "\n",
    "    for epoch in range(n_epochs):\n",
    "        total_loss = 0\n",
    "        for j, batch in enumerate(p_bar):\n",
    "            if j == 0:\n",
    "                eval_loss = evaluate(model, test_dataloader, device)\n",
    "                eval_losses.append(eval_loss)\n",
    "                plt.plot(eval_losses)\n",
    "                plt.title(\"Eval losses\")\n",
    "                plt.show()\n",
    "\n",
    "            starts, nexts, labels = batch\n",
    "            optimizer.zero_grad()\n",
    "            start_embeddings = model(**starts).pooler_output\n",
    "            next_embeddings = model(**nexts).pooler_output\n",
    "            loss = loss_fn(start_embeddings, next_embeddings, labels)\n",
    "            loss.backward()\n",
    "            optimizer.step()\n",
    "            scheduler.step()\n",
    "            total_loss += loss.item()\n",
    "            losses.append(loss.item())\n",
    "\n",
    "            p_bar.set_postfix_str(f\"lr: {scheduler.get_lr()[0]}, loss: {loss.item()}\")\n",
    "\n",
    "            if (j + 1) % 200 == 0:\n",
    "                clear_output()\n",
    "                plt.plot(losses)\n",
    "                plt.title(\"Train losses\")\n",
    "                plt.show()\n",
    "\n",
    "                eval_loss = evaluate(model, test_dataloader, device)\n",
    "                eval_losses.append(eval_loss)\n",
    "                plt.plot(eval_losses)\n",
    "                plt.title(\"Eval losses\")\n",
    "                plt.show()\n",
    "\n",
    "        print(f\"Epoch {epoch+1}, Loss: {total_loss / len(train_dataloader)}\")\n",
    "\n",
    "    # Сохранение модели\n",
    "    model.save_pretrained(\"./fine_tuned_nsp_e5\")\n",
    "    tokenizer.save_pretrained(\"./fine_tuned_nsp_e5\")\n"
   ]
  },
  {
   "cell_type": "code",
   "execution_count": 11,
   "metadata": {},
   "outputs": [
    {
     "data": {
      "image/png": "[encoded data removed]",
      "text/plain": [
       "<Figure size 640x480 with 1 Axes>"
      ]
     },
     "metadata": {},
     "output_type": "display_data"
    },
    {
     "name": "stdout",
     "output_type": "stream",
     "text": [
      "Evaluating...\n"
     ]
    },
    {
     "name": "stderr",
     "output_type": "stream",
     "text": []
    },
    {
     "name": "stderr",
     "output_type": "stream",
     "text": [
      "100%|██████████| 312/312 [00:14<00:00, 21.08it/s]\n"
     ]
    },
    {
     "data": {
      "image/png": "[encoded data removed]",
      "text/plain": [
       "<Figure size 640x480 with 1 Axes>"
      ]
     },
     "metadata": {},
     "output_type": "display_data"
    },
    {
     "name": "stderr",
     "output_type": "stream",
     "text": [
      "  7%|▋         | 9712/147858 [37:10<8:48:49,  4.35it/s, lr: 2.8802880288028806e-07, loss: 0.18648912012577057] \n"
     ]
    },
    {
     "ename": "KeyboardInterrupt",
     "evalue": "",
     "output_type": "error",
     "traceback": [
      "\u001b[31m---------------------------------------------------------------------------\u001b[39m",
      "\u001b[31mKeyboardInterrupt\u001b[39m                         Traceback (most recent call last)",
      "\u001b[36mCell\u001b[39m\u001b[36m \u001b[39m\u001b[32mIn[11]\u001b[39m\u001b[32m, line 15\u001b[39m\n\u001b[32m     10\u001b[39m scheduler = get_linear_schedule_with_warmup(optimizer, \n\u001b[32m     11\u001b[39m                                             num_warmup_steps=warmup_steps, \n\u001b[32m     12\u001b[39m                                             num_training_steps=total_steps)\n\u001b[32m     13\u001b[39m loss_fn = torch.nn.CosineEmbeddingLoss()\n\u001b[32m---> \u001b[39m\u001b[32m15\u001b[39m \u001b[43mtrain_loop\u001b[49m\u001b[43m(\u001b[49m\u001b[43mmodel\u001b[49m\u001b[43m,\u001b[49m\u001b[43m \u001b[49m\u001b[43mtrain_dataloader\u001b[49m\u001b[43m,\u001b[49m\u001b[43m \u001b[49m\u001b[43meval_dataloader\u001b[49m\u001b[43m,\u001b[49m\u001b[43m \u001b[49m\u001b[43mn_epochs\u001b[49m\u001b[43m,\u001b[49m\u001b[43m \u001b[49m\u001b[43mdevice\u001b[49m\u001b[43m,\u001b[49m\u001b[43m \u001b[49m\u001b[43moptimizer\u001b[49m\u001b[43m,\u001b[49m\u001b[43m \u001b[49m\u001b[43mscheduler\u001b[49m\u001b[43m)\u001b[49m\n",
      "\u001b[36mCell\u001b[39m\u001b[36m \u001b[39m\u001b[32mIn[10]\u001b[39m\u001b[32m, line 48\u001b[39m, in \u001b[36mtrain_loop\u001b[39m\u001b[34m(model, train_dataloader, test_dataloader, n_epochs, device, optimizer, scheduler)\u001b[39m\n\u001b[32m     46\u001b[39m optimizer.step()\n\u001b[32m     47\u001b[39m scheduler.step()\n\u001b[32m---> \u001b[39m\u001b[32m48\u001b[39m total_loss += \u001b[43mloss\u001b[49m\u001b[43m.\u001b[49m\u001b[43mitem\u001b[49m\u001b[43m(\u001b[49m\u001b[43m)\u001b[49m\n\u001b[32m     49\u001b[39m losses.append(loss.item())\n\u001b[32m     51\u001b[39m p_bar.set_postfix_str(\u001b[33mf\u001b[39m\u001b[33m\"\u001b[39m\u001b[33mlr: \u001b[39m\u001b[38;5;132;01m{\u001b[39;00mscheduler.get_lr()[\u001b[32m0\u001b[39m]\u001b[38;5;132;01m}\u001b[39;00m\u001b[33m, loss: \u001b[39m\u001b[38;5;132;01m{\u001b[39;00mloss.item()\u001b[38;5;132;01m}\u001b[39;00m\u001b[33m\"\u001b[39m)\n",
      "\u001b[31mKeyboardInterrupt\u001b[39m: "
     ]
    }
   ],
   "source": [
    "n_epochs = 1\n",
    "\n",
    "model_name = \"intfloat/multilingual-e5-small\"\n",
    "tokenizer = AutoTokenizer.from_pretrained(model_name)\n",
    "model = AutoModel.from_pretrained(model_name)\n",
    "\n",
    "optimizer = torch.optim.AdamW(model.parameters(), lr=1e-5)\n",
    "total_steps = 10000\n",
    "warmup_steps = 1\n",
    "scheduler = get_linear_schedule_with_warmup(optimizer, \n",
    "                                            num_warmup_steps=warmup_steps, \n",
    "                                            num_training_steps=total_steps)\n",
    "loss_fn = torch.nn.CosineEmbeddingLoss()\n",
    "\n",
    "train_loop(model, train_dataloader, eval_dataloader, n_epochs, device, optimizer, scheduler)"
   ]
  },
  {
   "cell_type": "code",
   "execution_count": 13,
   "metadata": {},
   "outputs": [
    {
     "data": {
      "text/plain": [
       "('./fine_tuned_nsp_e5/tokenizer_config.json',\n",
       " './fine_tuned_nsp_e5/special_tokens_map.json',\n",
       " './fine_tuned_nsp_e5/tokenizer.json')"
      ]
     },
     "execution_count": 13,
     "metadata": {},
     "output_type": "execute_result"
    }
   ],
   "source": [
    "model.save_pretrained(\"./fine_tuned_nsp_e5\")\n",
    "tokenizer.save_pretrained(\"./fine_tuned_nsp_e5\")"
   ]
  }
 ],
 "metadata": {
  "kernelspec": {
   "display_name": ".venv",
   "language": "python",
   "name": "python3"
  },
  "language_info": {
   "codemirror_mode": {
    "name": "ipython",
    "version": 3
   },
   "file_extension": ".py",
   "mimetype": "text/x-python",
   "name": "python",
   "nbconvert_exporter": "python",
   "pygments_lexer": "ipython3",
   "version": "3.11.10"
  }
 },
 "nbformat": 4,
 "nbformat_minor": 2
}
