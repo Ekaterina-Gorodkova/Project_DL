{
 "cells": [
  {
   "cell_type": "code",
   "execution_count": null,
   "metadata": {
    "_cell_guid": "b1076dfc-b9ad-4769-8c92-a6c4dae69d19",
    "_uuid": "8f2839f25d086af736a60e9eeb907d3b93b6e0e5",
    "execution": {
     "iopub.execute_input": "2025-03-25T23:47:21.323528Z",
     "iopub.status.busy": "2025-03-25T23:47:21.323132Z",
     "iopub.status.idle": "2025-03-26T00:18:43.880700Z",
     "shell.execute_reply": "2025-03-26T00:18:43.879056Z",
     "shell.execute_reply.started": "2025-03-25T23:47:21.323490Z"
    },
    "trusted": true
   },
   "outputs": [
    {
     "name": "stdout",
     "output_type": "stream",
     "text": [
      "Requirement already satisfied: fasttext in /usr/local/lib/python3.10/dist-packages (0.9.3)\n",
      "Requirement already satisfied: pybind11>=2.2 in /usr/local/lib/python3.10/dist-packages (from fasttext) (2.13.6)\n",
      "Requirement already satisfied: setuptools>=0.7.0 in /usr/local/lib/python3.10/dist-packages (from fasttext) (75.1.0)\n",
      "Requirement already satisfied: numpy in /usr/local/lib/python3.10/dist-packages (from fasttext) (1.26.4)\n",
      "Requirement already satisfied: mkl_fft in /usr/local/lib/python3.10/dist-packages (from numpy->fasttext) (1.3.8)\n",
      "Requirement already satisfied: mkl_random in /usr/local/lib/python3.10/dist-packages (from numpy->fasttext) (1.2.4)\n",
      "Requirement already satisfied: mkl_umath in /usr/local/lib/python3.10/dist-packages (from numpy->fasttext) (0.1.1)\n",
      "Requirement already satisfied: mkl in /usr/local/lib/python3.10/dist-packages (from numpy->fasttext) (2025.0.1)\n",
      "Requirement already satisfied: tbb4py in /usr/local/lib/python3.10/dist-packages (from numpy->fasttext) (2022.0.0)\n",
      "Requirement already satisfied: mkl-service in /usr/local/lib/python3.10/dist-packages (from numpy->fasttext) (2.4.1)\n",
      "Requirement already satisfied: intel-openmp>=2024 in /usr/local/lib/python3.10/dist-packages (from mkl->numpy->fasttext) (2024.2.0)\n",
      "Requirement already satisfied: tbb==2022.* in /usr/local/lib/python3.10/dist-packages (from mkl->numpy->fasttext) (2022.0.0)\n",
      "Requirement already satisfied: tcmlib==1.* in /usr/local/lib/python3.10/dist-packages (from tbb==2022.*->mkl->numpy->fasttext) (1.2.0)\n",
      "Requirement already satisfied: intel-cmplr-lib-rt in /usr/local/lib/python3.10/dist-packages (from mkl_umath->numpy->fasttext) (2024.2.0)\n",
      "Requirement already satisfied: intel-cmplr-lib-ur==2024.2.0 in /usr/local/lib/python3.10/dist-packages (from intel-openmp>=2024->mkl->numpy->fasttext) (2024.2.0)\n",
      "Accuracy: 0.505057803468208\n",
      "              precision    recall  f1-score   support\n",
      "\n",
      "           0       0.50      0.09      0.15      4792\n",
      "           1       0.51      0.91      0.65      4896\n",
      "\n",
      "    accuracy                           0.51      9688\n",
      "   macro avg       0.50      0.50      0.40      9688\n",
      "weighted avg       0.50      0.51      0.40      9688\n",
      "\n"
     ]
    }
   ],
   "source": [
    "!pip install fasttext\n",
    "\n",
    "import fasttext\n",
    "import pandas as pd\n",
    "import re\n",
    "import os\n",
    "from sklearn.model_selection import train_test_split\n",
    "from sklearn.metrics import accuracy_score, classification_report\n",
    "\n",
    "train_df = pd.read_parquet(\"/kaggle/input/wsdm-cup-multilingual-chatbot-arena/train.parquet\")\n",
    "\n",
    "train_df['texts'] = train_df['prompt'] + \" \" + train_df['response_a'] + \" \" + train_df['response_b']\n",
    "train_df['labels'] = train_df['winner'].map(lambda x: 0 if x == 'model_a' else 1)\n",
    "\n",
    "df = train_df[[\"texts\", \"labels\"]]\n",
    "\n",
    "train_df, test_df = train_test_split(df, test_size=0.2, random_state=1, stratify=df[\"labels\"])\n",
    "\n",
    "def convert_to_fasttext_format(df, output_file):\n",
    "    with open(output_file, \"w\") as f:\n",
    "        for _, row in df.iterrows():\n",
    "            text = re.sub(r\"\\s+\", \" \", row[\"texts\"]).strip()\n",
    "            f.write(f\"__label__{row['labels']} {text}\\n\")\n",
    "\n",
    "convert_to_fasttext_format(train_df, \"train.txt\")\n",
    "convert_to_fasttext_format(test_df, \"test.txt\")\n",
    "\n",
    "model = fasttext.train_supervised(\"train.txt\", epoch=100, lr=0.001, wordNgrams=3, loss='softmax')\n",
    "\n",
    "def evaluate(model, test_file):\n",
    "    true_labels, texts = [], []\n",
    "    with open(test_file, \"r\") as f:\n",
    "        for line in f:\n",
    "            parts = line.strip().split(\" \")\n",
    "            label = int(parts[0].replace(\"__label__\", \"\"))\n",
    "            text = \" \".join(parts[1:])\n",
    "            true_labels.append(label)\n",
    "            texts.append(text)\n",
    "    \n",
    "    pred_labels = [int(model.predict(text)[0][0].replace(\"__label__\", \"\")) for text in texts]\n",
    "    print(\"Accuracy:\", accuracy_score(true_labels, pred_labels))\n",
    "    print(classification_report(true_labels, pred_labels))\n",
    "\n",
    "evaluate(model, \"test.txt\")"
   ]
  },
  {
   "cell_type": "code",
   "execution_count": null,
   "metadata": {
    "execution": {
     "execution_failed": "2025-03-25T22:29:45.857Z"
    },
    "trusted": true
   },
   "outputs": [],
   "source": []
  },
  {
   "cell_type": "code",
   "execution_count": null,
   "metadata": {
    "trusted": true
   },
   "outputs": [],
   "source": []
  }
 ],
 "metadata": {
  "kaggle": {
   "accelerator": "none",
   "dataSources": [
    {
     "databundleVersionId": 10131489,
     "sourceId": 86946,
     "sourceType": "competition"
    }
   ],
   "dockerImageVersionId": 30918,
   "isGpuEnabled": false,
   "isInternetEnabled": true,
   "language": "python",
   "sourceType": "notebook"
  },
  "kernelspec": {
   "display_name": "Python 3",
   "language": "python",
   "name": "python3"
  },
  "language_info": {
   "codemirror_mode": {
    "name": "ipython",
    "version": 3
   },
   "file_extension": ".py",
   "mimetype": "text/x-python",
   "name": "python",
   "nbconvert_exporter": "python",
   "pygments_lexer": "ipython3",
   "version": "3.10.12"
  }
 },
 "nbformat": 4,
 "nbformat_minor": 4
}
